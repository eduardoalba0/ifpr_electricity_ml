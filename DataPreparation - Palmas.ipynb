{
 "cells": [
  {
   "metadata": {
    "id": "586e6d0c30ee15fe"
   },
   "cell_type": "markdown",
   "source": "# Imports",
   "id": "586e6d0c30ee15fe"
  },
  {
   "metadata": {
    "id": "569cac5cd26397e",
    "jupyter": {
     "is_executing": true
    }
   },
   "cell_type": "code",
   "source": [
    "import cudf as pd\n",
    "import cupy\n",
    "import dask\n",
    "import matplotlib.pyplot as plt\n",
    "import numpy as np\n",
    "import os\n",
    "import pandas\n",
    "import random\n",
    "import shap\n",
    "import seaborn as sns\n",
    "import tensorflow as tf\n",
    "\n",
    "from cuml import RandomForestRegressor as CudaRandomForest\n",
    "from cuml.metrics import mean_absolute_error\n",
    "from shap.plots import colors\n",
    "from sklearn.ensemble import RandomForestRegressor\n",
    "from sklearn.model_selection import TimeSeriesSplit\n",
    "from statsmodels.graphics.tsaplots import plot_acf, plot_pacf\n",
    "\n",
    "from xgboost import XGBRegressor\n",
    "\n",
    "SEED = 100\n",
    "\n",
    "\n",
    "def reset_seed(rnd_seed=SEED):\n",
    "    os.environ['PYTHONHASHSEED'] = '0'\n",
    "    random.seed(rnd_seed)\n",
    "    np.random.seed(rnd_seed)\n",
    "    cupy.random.seed(rnd_seed)\n",
    "    tf.random.set_seed(rnd_seed)\n",
    "\n",
    "\n",
    "reset_seed()\n",
    "dask.config.set(scheduler=\"threads\", num_workers=30)\n"
   ],
   "id": "569cac5cd26397e",
   "outputs": [],
   "execution_count": null
  },
  {
   "metadata": {
    "id": "8debb8df17e4dcfe"
   },
   "cell_type": "markdown",
   "source": [
    "# Dataset\n",
    "## Load"
   ],
   "id": "8debb8df17e4dcfe"
  },
  {
   "metadata": {
    "id": "b06750858951d2e5",
    "jupyter": {
     "is_executing": true
    }
   },
   "cell_type": "code",
   "source": [
    "df = pd.read_csv('dataset - Palmas/electricity.csv', sep=\";\", decimal=\",\", header=0)\n",
    "df_climatic = pd.read_csv('dataset - Palmas/climatic.csv', sep=\";\", decimal=\",\", header=0)\n",
    "\n",
    "df[\"date\"] = pd.to_datetime(df[\"date\"], format=\"%d/%m/%Y\")\n",
    "df_climatic[\"date\"] = pd.to_datetime(df_climatic[\"date\"], format=\"%d/%m/%Y\")\n",
    "\n",
    "df.drop(\"order\", axis=1, inplace=True)\n",
    "df.set_index(\"date\", inplace=True)\n",
    "df_climatic.set_index(\"date\", inplace=True)\n",
    "\n",
    "plt.figure(figsize=(18, 5))\n",
    "plt.rcParams['xtick.labelsize'] = 20\n",
    "plt.rcParams['ytick.labelsize'] = 20\n",
    "plt.rcParams.update({'font.size': 20})\n",
    "plt.plot(df[\"consumption\"], label=\"IFPR - Palmas Campus\", color=\"blue\")\n",
    "plt.xlabel('Year')\n",
    "plt.ylabel('Consumption (KWh)')\n",
    "\n",
    "ax = plt.gca()\n",
    "ax.set_facecolor('white')\n",
    "plt.grid(True, color='grey', linestyle=\"--\", linewidth=0.75)\n",
    "plt.legend(facecolor='white')\n",
    "plt.savefig(\"results - Palmas 12m/Serie-Palmas.png\", bbox_inches='tight')\n",
    "plt.show()\n",
    "\n",
    "df\n"
   ],
   "id": "b06750858951d2e5",
   "outputs": [],
   "execution_count": null
  },
  {
   "metadata": {},
   "cell_type": "markdown",
   "source": "## Autocorrelation",
   "id": "fca27cc186cf25d1"
  },
  {
   "metadata": {
    "jupyter": {
     "is_executing": true
    }
   },
   "cell_type": "code",
   "source": [
    "plt.rcParams['xtick.labelsize'] = 15\n",
    "plt.rcParams['ytick.labelsize'] = 15\n",
    "plt.rcParams.update({'font.size': 15})\n",
    "plt.rcParams['axes.prop_cycle'] = plt.cycler(color=[\"blue\"])\n",
    "\n",
    "fig, ax = plt.subplots(figsize=(6, 3))\n",
    "ax.set_facecolor('white')\n",
    "plt.grid(True, color='grey', linestyle=\"--\", linewidth=0.75)\n",
    "\n",
    "plot_acf(df[:50][\"consumption\"].to_pandas(), ax=ax, lags=12)\n",
    "plt.savefig(\"results - Palmas 12m/CORR-ACF-Palmas.png\", bbox_inches='tight')\n",
    "plt.show()\n"
   ],
   "id": "a1d00fae8d197951",
   "outputs": [],
   "execution_count": null
  },
  {
   "metadata": {
    "jupyter": {
     "is_executing": true
    }
   },
   "cell_type": "code",
   "source": [
    "plt.rcParams['xtick.labelsize'] = 15\n",
    "plt.rcParams['ytick.labelsize'] = 15\n",
    "plt.rcParams.update({'font.size': 15})\n",
    "plt.rcParams['axes.prop_cycle'] = plt.cycler(color=[\"blue\"])\n",
    "\n",
    "fig, ax = plt.subplots(figsize=(6, 3))\n",
    "ax.set_facecolor('white')\n",
    "plt.grid(True, color='grey', linestyle=\"--\", linewidth=0.75)\n",
    "\n",
    "plot_pacf(df[:50][\"consumption\"].to_pandas(), ax=ax, lags=12)\n",
    "plt.savefig(\"results - Palmas 12m/CORR-PACF-Palmas.png\", bbox_inches='tight')\n",
    "plt.show()\n"
   ],
   "id": "8f5b1fe0b4549d0b",
   "outputs": [],
   "execution_count": null
  },
  {
   "metadata": {},
   "cell_type": "markdown",
   "source": [
    "## Hypotesis Tests\n",
    "\n",
    "The hypothesis tests were carried out in the R language, according to the \"Hypotesis Tests.R\" File."
   ],
   "id": "b8786f4d8597cf2f"
  },
  {
   "metadata": {
    "id": "928749836bee739c"
   },
   "cell_type": "markdown",
   "source": [
    "# Preprocessing\n",
    "## Missing Values"
   ],
   "id": "928749836bee739c"
  },
  {
   "metadata": {
    "id": "ad72c2f6f86361d2",
    "jupyter": {
     "is_executing": true
    }
   },
   "cell_type": "code",
   "source": [
    "for index, row in df_climatic[df_climatic.isnull()].to_pandas().iterrows():\n",
    "    df_mes = df_climatic[df_climatic[\"month\"] == df_climatic.at[index, \"month\"]]\n",
    "    for col in row.index:\n",
    "        if pandas.isnull(df_climatic.at[index, col]):\n",
    "            df_mes.at[index, col] = df_mes[col].sum() / df_mes[col][df_mes[col].isnull() == False].count()\n",
    "            df_climatic.at[index, col] = df_mes.at[index, col]\n"
   ],
   "id": "ad72c2f6f86361d2",
   "outputs": [],
   "execution_count": null
  },
  {
   "metadata": {
    "id": "d7b609c271af7c23"
   },
   "cell_type": "markdown",
   "source": "## LAG Creation",
   "id": "d7b609c271af7c23"
  },
  {
   "metadata": {
    "id": "440267e3ed5194f6",
    "jupyter": {
     "is_executing": true
    }
   },
   "cell_type": "code",
   "source": [
    "for lag_col in [\"consumption\"]:\n",
    "    for i in range(1, 12 + 1):\n",
    "        lag_eletricity = df[lag_col].shift(i)\n",
    "        df[f'LAG_' + '{:02d}'.format(i)] = lag_eletricity\n"
   ],
   "id": "440267e3ed5194f6",
   "outputs": [],
   "execution_count": null
  },
  {
   "metadata": {
    "id": "9e93c0884c8aac4c"
   },
   "cell_type": "markdown",
   "source": "## Datasets Merge",
   "id": "9e93c0884c8aac4c"
  },
  {
   "metadata": {
    "id": "8764d645055e65ea",
    "jupyter": {
     "is_executing": true
    }
   },
   "cell_type": "code",
   "source": [
    "df = pd.merge(left=df, right=df_climatic, on=[\"date\", \"month\", \"year\"], how=\"left\").sort_index()\n",
    "df"
   ],
   "id": "8764d645055e65ea",
   "outputs": [],
   "execution_count": null
  },
  {
   "metadata": {
    "id": "eb9e4d91bb54fcfe"
   },
   "cell_type": "markdown",
   "source": "## Dummy Variables Creation",
   "id": "eb9e4d91bb54fcfe"
  },
  {
   "metadata": {
    "id": "2d806456ae1fd115",
    "jupyter": {
     "is_executing": true
    }
   },
   "cell_type": "code",
   "source": [
    "df_meses = pd.get_dummies(df[\"month\"].astype(int), prefix=\"\", prefix_sep=\"\", dtype=int).rename(\n",
    "    columns={\"1\": \"month_JAN\", \"2\": \"month_FEV\", \"3\": \"month_MAR\", \"4\": \"month_ABR\", \"5\": \"month_MAI\", \"6\": \"month_JUN\",\n",
    "             \"7\": \"month_JUL\", \"8\": \"month_AGO\", \"9\": \"month_SET\", \"10\": \"month_OUT\", \"11\": \"month_NOV\",\n",
    "             \"12\": \"month_DEZ\"}\n",
    ")\n",
    "df_anos = pd.get_dummies(df[\"year\"].astype(int), prefix=\"\", prefix_sep=\"\", dtype=int).rename(\n",
    "    columns={\"2017\": \"year_2017\", \"2018\": \"year_2018\", \"2019\": \"year_2019\", \"2020\": \"year_2020\", \"2021\": \"year_2021\",\n",
    "             \"2022\": \"year_2022\", \"2023\": \"year_2023\", \"2024\": \"year_2024\"}\n",
    ")\n",
    "df = pd.concat([df, df_meses, df_anos], axis=1)\n",
    "df = df.drop([\"month\", \"year\"], axis=1)\n",
    "df = df.astype(\"float32\").dropna()\n",
    "\n",
    "df_show = df.to_pandas()\n",
    "df_show"
   ],
   "id": "2d806456ae1fd115",
   "outputs": [],
   "execution_count": null
  },
  {
   "metadata": {
    "id": "71533205d61fec66"
   },
   "cell_type": "markdown",
   "source": "# Correlation Analysis\n",
   "id": "71533205d61fec66"
  },
  {
   "cell_type": "markdown",
   "source": "### LAGS",
   "metadata": {
    "id": "pZbQayGBhk-a"
   },
   "id": "pZbQayGBhk-a"
  },
  {
   "metadata": {
    "id": "459ec173ece30dd6",
    "jupyter": {
     "is_executing": true
    }
   },
   "cell_type": "code",
   "source": [
    "columns = df.to_pandas().filter(like=\"LAG_\").columns.tolist()\n",
    "columns.insert(0, \"consumption\")\n",
    "\n",
    "corr_matrix = df[columns].dropna().to_pandas().corr(\n",
    "    numeric_only=True)\n",
    "\n",
    "fig, ax = plt.subplots(figsize=(12, 6))\n",
    "sns.heatmap(corr_matrix,\n",
    "            cmap=\"coolwarm\",\n",
    "            center=0,\n",
    "            annot=True,\n",
    "            fmt='.1g',\n",
    "            ax=ax)\n",
    "plt.show()"
   ],
   "id": "459ec173ece30dd6",
   "outputs": [],
   "execution_count": null
  },
  {
   "metadata": {
    "id": "ca0f92a5862ebd58"
   },
   "cell_type": "markdown",
   "source": "### Climatic and COVID Variables",
   "id": "ca0f92a5862ebd58"
  },
  {
   "metadata": {
    "id": "2bef6f86d93bc7fb",
    "jupyter": {
     "is_executing": true
    }
   },
   "cell_type": "code",
   "source": [
    "corr_matrix = df.drop(df.to_pandas().filter(like=\"LAG_\").columns,\n",
    "                      axis=1).drop(df.to_pandas().filter(like=\"month_\").columns,\n",
    "                                   axis=1).drop(df.to_pandas().filter(like=\"year_\").columns,\n",
    "                                                axis=1).dropna().to_pandas().corr(numeric_only=True)\n",
    "\n",
    "fig, ax = plt.subplots(figsize=(12, 6))\n",
    "sns.heatmap(corr_matrix,\n",
    "            cmap=\"coolwarm\",\n",
    "            center=0,\n",
    "            annot=True,\n",
    "            fmt='.1g',\n",
    "            ax=ax)\n",
    "plt.show()\n"
   ],
   "id": "2bef6f86d93bc7fb",
   "outputs": [],
   "execution_count": null
  },
  {
   "metadata": {
    "id": "425ec91fdc851ba6"
   },
   "cell_type": "markdown",
   "source": "# SHAP values Analysis\n",
   "id": "425ec91fdc851ba6"
  },
  {
   "cell_type": "markdown",
   "source": [
    "### Random Forest"
   ],
   "metadata": {
    "id": "0bZffZI0hrhb"
   },
   "id": "0bZffZI0hrhb"
  },
  {
   "metadata": {
    "collapsed": true,
    "id": "673c7f7f0669495f",
    "jupyter": {
     "is_executing": true
    }
   },
   "cell_type": "code",
   "source": [
    "df_copy = df.copy().to_pandas()\n",
    "\n",
    "x_electricity = df_copy.drop(\"consumption\", axis=1)\n",
    "y_electricity = df_copy[\"consumption\"]\n",
    "model_rf = RandomForestRegressor(n_estimators=100, max_depth=100, random_state=SEED)\n",
    "shap.initjs()\n",
    "\n",
    "model_rf.fit(x_electricity, y_electricity)\n",
    "\n",
    "explainer_rf = shap.Explainer(model_rf)\n",
    "shap_rf = explainer_rf(x_electricity)\n",
    "\n",
    "importance_rf = pandas.DataFrame(list(zip(x_electricity.columns, np.abs(shap_rf.values).mean(0))),\n",
    "                                 columns=[\"feature\", \"rf importance\"])\n",
    "importance_rf = importance_rf.sort_values(by=[\"rf importance\"])\n",
    "importance_rf"
   ],
   "id": "673c7f7f0669495f",
   "outputs": [],
   "execution_count": null
  },
  {
   "metadata": {
    "jupyter": {
     "is_executing": true
    }
   },
   "cell_type": "code",
   "source": [
    "plt.figure(figsize=(12, 6))\n",
    "colors.blue_rgb = \"blue\"\n",
    "shap.plots.waterfall(shap_rf[-1], max_display=10, show=False)\n",
    "plt.gcf().set_size_inches(12, 6)\n",
    "\n",
    "\n",
    "for ax in plt.gcf().get_axes():\n",
    "    ax.set_xlim(14500, 17500)\n",
    "    \n",
    "plt.tight_layout()\n",
    "plt.savefig(\"results - Palmas 12m/Feature Select - SHAP WATERFALL RF.png\", bbox_inches='tight')\n",
    "plt.show()"
   ],
   "id": "65cf5fe686cdfb8",
   "outputs": [],
   "execution_count": null
  },
  {
   "metadata": {
    "jupyter": {
     "is_executing": true
    }
   },
   "cell_type": "code",
   "source": "shap.plots.bar(shap_rf)\n",
   "id": "aa4716fc24fd4092",
   "outputs": [],
   "execution_count": null
  },
  {
   "metadata": {
    "id": "c17d0371fd7c8aa7"
   },
   "cell_type": "markdown",
   "source": [
    "### XGBoost"
   ],
   "id": "c17d0371fd7c8aa7"
  },
  {
   "metadata": {
    "collapsed": true,
    "id": "4292e356f74c9f01",
    "jupyter": {
     "is_executing": true
    }
   },
   "cell_type": "code",
   "source": [
    "df_copy = df.copy().to_pandas()\n",
    "\n",
    "x_electricity = df_copy.drop(\"consumption\", axis=1)\n",
    "y_electricity = df_copy[\"consumption\"]\n",
    "\n",
    "model_xgb = XGBRegressor(booster=\"gbtree\", objective='reg:squarederror', random_state=SEED)\n",
    "shap.initjs()\n",
    "\n",
    "model_xgb.fit(x_electricity, y_electricity)\n",
    "\n",
    "explainer_xgb = shap.Explainer(model_xgb)\n",
    "shap_xgb = explainer_xgb(x_electricity)\n",
    "\n",
    "importance_xgb = pandas.DataFrame(list(zip(x_electricity.columns, np.abs(shap_xgb.values).mean(0))),\n",
    "                                  columns=[\"feature\", \"xgb importance\"])\n",
    "importance_xgb = importance_xgb.sort_values(by=[\"xgb importance\"])\n",
    "importance_xgb"
   ],
   "id": "4292e356f74c9f01",
   "outputs": [],
   "execution_count": null
  },
  {
   "metadata": {
    "jupyter": {
     "is_executing": true
    }
   },
   "cell_type": "code",
   "source": [
    "plt.figure(figsize=(12, 6))\n",
    "shap.plots.waterfall(shap_xgb[0], max_display=10, show=False)\n",
    "plt.gcf().set_size_inches(12, 6)\n",
    "\n",
    "for ax in plt.gcf().get_axes():\n",
    "    ax.set_xlim(14000, 22000)\n",
    "\n",
    "plt.tight_layout()\n",
    "plt.savefig(\"results - Palmas 12m/Feature Select - SHAP WATERFALL XGB.png\", bbox_inches='tight')\n",
    "plt.show()\n"
   ],
   "id": "f4a97dfa11a6b6cc",
   "outputs": [],
   "execution_count": null
  },
  {
   "metadata": {
    "jupyter": {
     "is_executing": true
    }
   },
   "cell_type": "code",
   "source": "shap.plots.bar(shap_xgb)\n",
   "id": "7bb30f56e8e6b35a",
   "outputs": [],
   "execution_count": null
  },
  {
   "metadata": {
    "id": "38b75b5408c53528"
   },
   "cell_type": "markdown",
   "source": "### Average - RF and XGB",
   "id": "38b75b5408c53528"
  },
  {
   "metadata": {
    "id": "9a7f67119754669f",
    "jupyter": {
     "is_executing": true
    }
   },
   "cell_type": "code",
   "source": [
    "importance = pandas.DataFrame(list(zip(x_electricity.columns, (\n",
    "        np.abs(shap_rf.values).mean(0) + np.abs(shap_xgb.values).mean(0)) / 2)),\n",
    "                              columns=[\"feature\", \"Mean RF/XGB importance\"])\n",
    "\n",
    "importance = importance.sort_values(by=[\"Mean RF/XGB importance\"])\n",
    "importance\n"
   ],
   "id": "9a7f67119754669f",
   "outputs": [],
   "execution_count": null
  },
  {
   "metadata": {
    "jupyter": {
     "is_executing": true
    }
   },
   "cell_type": "code",
   "source": [
    "importance = importance.sort_values(by=[\"Mean RF/XGB importance\"], ascending=False)\n",
    "\n",
    "bar_features = list(importance[0:10][\"feature\"])\n",
    "bar_features.append(f\"Sum of {len(importance[10:])} other features\")\n",
    "bar_importances_electr = list(importance[0:10][\"Mean RF/XGB importance\"])\n",
    "bar_importances_electr.append(importance[10:][\"Mean RF/XGB importance\"].sum())\n",
    "\n",
    "bar_features = bar_features[::-1]\n",
    "bar_importances_electr = bar_importances_electr[::-1]\n",
    "\n",
    "plt.figure(figsize=(12, 12))\n",
    "plt.rcParams['xtick.labelsize'] = 16\n",
    "plt.rcParams['ytick.labelsize'] = 16\n",
    "plt.rcParams.update({'font.size': 16})\n",
    "\n",
    "bars = plt.barh(bar_features, bar_importances_electr, color=colors.red_rgb)\n",
    "\n",
    "for bar, val in zip(bars, bar_importances_electr):\n",
    "    plt.text(bar.get_width() + 5 if val < 300 else bar.get_width() -5, bar.get_y() + bar.get_height() / 2, f'+{val:.2f}',\n",
    "             va='center', ha='left' if val < 300 else 'right', color=colors.red_rgb if val < 300 else \"white\")\n",
    "\n",
    "plt.savefig(\"results - Palmas 12m/Importance RF XGB.png\", bbox_inches='tight')\n",
    "plt.show()"
   ],
   "id": "b461437557f10c3c",
   "outputs": [],
   "execution_count": null
  },
  {
   "metadata": {
    "id": "fa1e5848830ff404"
   },
   "cell_type": "markdown",
   "source": "# Features Selection\n",
   "id": "fa1e5848830ff404"
  },
  {
   "metadata": {
    "id": "a0fee6956995bf09",
    "jupyter": {
     "is_executing": true
    }
   },
   "cell_type": "code",
   "source": [
    "importance = importance.sort_values(by=[\"Mean RF/XGB importance\"])\n",
    "\n",
    "\n",
    "def ft_removal_rf(n_ft_removed, dataset):\n",
    "    print(\"RF: \" +n_ft_removed)\n",
    "    df_selected = dataset[n_ft_removed:][\"feature\"]\n",
    "    x = df[df_selected]\n",
    "    y = df[\"consumption\"]\n",
    "\n",
    "    rf = CudaRandomForest(n_bins=x.shape[0], random_state=SEED)\n",
    "\n",
    "    cvs_rf = []\n",
    "    for i_train, i_test in TimeSeriesSplit(n_splits=5, test_size=1).split(x, y):\n",
    "        x_train, x_test = x.iloc[i_train].to_cupy(), x.iloc[i_test].to_cupy()\n",
    "        y_train, y_test = y.iloc[i_train].to_cupy(), y.iloc[i_test].to_cupy()\n",
    "\n",
    "        rf.fit(x_train, y_train)\n",
    "        cvs_rf.append(int(mean_absolute_error(y_test, rf.predict(x_test))))\n",
    "    return int(np.array(cvs_rf).mean())\n",
    "\n",
    "\n",
    "def ft_removal_xgb(n_ft_removed, dataset):\n",
    "    print(\"XGB: \" +n_ft_removed)\n",
    "    df_selected = dataset[n_ft_removed:][\"feature\"]\n",
    "\n",
    "    x = df[df_selected]\n",
    "    y = df[\"consumption\"]\n",
    "\n",
    "    xgb = XGBRegressor(device=\"cuda\", random_state=SEED)\n",
    "\n",
    "    cvs_xgb = []\n",
    "    for i_train, i_test in TimeSeriesSplit(n_splits=5, test_size=1).split(x, y):\n",
    "        x_train, x_test = x.iloc[i_train].to_cupy(), x.iloc[i_test].to_cupy()\n",
    "        y_train, y_test = y.iloc[i_train].to_cupy(), y.iloc[i_test].to_cupy()\n",
    "\n",
    "        xgb.fit(x_train, y_train)\n",
    "        cvs_xgb.append(int(mean_absolute_error(y_test, xgb.predict(x_test))))\n",
    "\n",
    "    return int(np.array(cvs_xgb).mean())\n",
    "\n",
    "\n",
    "importance = importance.sort_values(by=[\"Mean RF/XGB importance\"])\n",
    "\n",
    "ft_rm_rf = dask.compute(\n",
    "    [dask.delayed(ft_removal_rf)(i, importance) for i in range(importance[\"feature\"].shape[0])])[0]\n",
    "ft_rm_xgb = dask.compute(\n",
    "    [dask.delayed(ft_removal_xgb)(i, importance) for i in range(importance[\"feature\"].shape[0])])[0]\n"
   ],
   "id": "a0fee6956995bf09",
   "outputs": [],
   "execution_count": null
  },
  {
   "cell_type": "code",
   "source": [
    "ft_rm_mean = (np.array(ft_rm_rf) + np.array(ft_rm_xgb)) / 2\n",
    "min_index = np.argmin(ft_rm_mean[:40])\n",
    "\n",
    "plt.figure(figsize=(12, 6))\n",
    "plt.rcParams['xtick.labelsize'] = 16\n",
    "plt.rcParams['ytick.labelsize'] = 16\n",
    "plt.rcParams.update({'font.size': 16})\n",
    "plt.plot([x for x in ft_rm_rf[:40]], label=\"RF\", color=colors.red_rgb)\n",
    "plt.plot([x for x in ft_rm_xgb[:40]], label=\"XGBoost\", color=\"blue\")\n",
    "plt.plot([x for x in ft_rm_mean[:40]], label=\"Average - RF/XGBoost\", color=\"black\")\n",
    "plt.scatter(min_index, ft_rm_mean[min_index], color='black', zorder=2)\n",
    "plt.annotate(f\"({min_index:.2f}, {ft_rm_mean[min_index]:.2f})\", xy=(min_index, ft_rm_mean[min_index]),\n",
    "             xytext=(-60, -25), textcoords='offset points', fontsize=16)\n",
    "\n",
    "plt.xlabel('Number of features removed')\n",
    "plt.ylabel('Mean Absolute Error')\n",
    "ax = plt.gca()\n",
    "ax.set_facecolor('white')\n",
    "plt.grid(True, color='grey', linestyle=\"--\", linewidth=0.5)\n",
    "plt.legend(facecolor='white')\n",
    "plt.savefig(\"results - Palmas 12m/Feature Removal.png\", bbox_inches='tight')\n",
    "plt.show()\n",
    "importance = importance.sort_values(by=[\"Mean RF/XGB importance\"])\n",
    "df_selected = df.drop(importance[:min_index][\"feature\"], axis=1)\n",
    "df_selected.to_pandas().to_csv(f\"dataset - Palmas/elect_merged_selected.csv\", sep=\";\", decimal=\",\")\n",
    "df_selected"
   ],
   "metadata": {
    "id": "dX5VqgeKhLnj",
    "jupyter": {
     "is_executing": true
    }
   },
   "id": "dX5VqgeKhLnj",
   "outputs": [],
   "execution_count": null
  }
 ],
 "metadata": {
  "kernelspec": {
   "display_name": "Python 3 (ipykernel)",
   "name": "python3",
   "language": "python"
  },
  "language_info": {
   "codemirror_mode": {
    "name": "ipython",
    "version": 2
   },
   "file_extension": ".py",
   "mimetype": "text/x-python",
   "name": "python",
   "nbconvert_exporter": "python",
   "pygments_lexer": "ipython2",
   "version": "2.7.6"
  },
  "colab": {
   "provenance": [],
   "toc_visible": true,
   "gpuType": "T4"
  },
  "accelerator": "GPU"
 },
 "nbformat": 4,
 "nbformat_minor": 5
}

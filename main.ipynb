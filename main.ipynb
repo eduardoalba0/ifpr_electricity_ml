{
 "cells": [
  {
   "cell_type": "markdown",
   "source": [
    "# Imports"
   ],
   "metadata": {
    "collapsed": false
   },
   "id": "2f3c2e68d8cd2c13"
  },
  {
   "cell_type": "code",
   "source": [
    "import cudf as pd\n",
    "import numpy as np\n",
    "import pandas\n",
    "import shap\n",
    "import seaborn as sns\n",
    "import numpy\n",
    "import cupy\n",
    "import tensorflow\n",
    "import os\n",
    "import random\n",
    "\n",
    "from cuml import train_test_split\n",
    "from cuml import SVR\n",
    "from cuml import RandomForestRegressor as CuRF\n",
    "from keras import Sequential\n",
    "from keras.src.layers import Input, LSTM, Dense\n",
    "from sklearn.ensemble import RandomForestRegressor\n",
    "from sklearn.metrics import mean_absolute_percentage_error\n",
    "from sklearn.model_selection import TimeSeriesSplit\n",
    "from xgboost import XGBRegressor\n",
    "\n",
    "from dask_cuda import LocalCUDACluster\n",
    "from dask.distributed import Client\n",
    "\n",
    "SEED = 100\n",
    "\n",
    "\n",
    "def reset_seed():\n",
    "    os.environ['PYTHONHASHSEED'] = '0'\n",
    "    random.seed(SEED)\n",
    "    numpy.random.seed(SEED)\n",
    "    cupy.random.seed(SEED)\n",
    "    tensorflow.random.set_seed(SEED)\n",
    "\n",
    "\n",
    "cluster = LocalCUDACluster(dashboard_address=':3790')\n",
    "client = Client(cluster)\n",
    "reset_seed()\n"
   ],
   "metadata": {
    "collapsed": false,
    "ExecuteTime": {
     "end_time": "2024-06-09T03:15:55.386397Z",
     "start_time": "2024-06-09T03:15:44.206324Z"
    }
   },
   "id": "b6e345ae81073f29",
   "outputs": [
    {
     "name": "stderr",
     "output_type": "stream",
     "text": [
      "2024-06-09 00:15:48.487494: I tensorflow/core/platform/cpu_feature_guard.cc:210] This TensorFlow binary is optimized to use available CPU instructions in performance-critical operations.\n",
      "To enable the following instructions: SSE4.1 SSE4.2 AVX AVX2 FMA, in other operations, rebuild TensorFlow with the appropriate compiler flags.\n",
      "/home/eduardoalba0/.conda/envs/rapids-24.06/lib/python3.11/site-packages/dask_cuda/utils.py:170: UserWarning: Cannot get CPU affinity for device with index 0, setting default affinity\n",
      "  warnings.warn(\n"
     ]
    }
   ],
   "execution_count": 1
  },
  {
   "cell_type": "markdown",
   "source": [
    "# Load Datasets"
   ],
   "metadata": {
    "collapsed": false
   },
   "id": "d53fe60dddad7a9"
  },
  {
   "cell_type": "code",
   "source": [
    "df_water = pd.read_csv('./dataset/water.csv', sep=\";\", decimal=\".\", header=0)\n",
    "df_electricity = pd.read_csv('./dataset/electricity.csv', sep=\";\", decimal=\".\", header=0)\n",
    "df_climatic = pd.read_csv('./dataset/climatic.csv', sep=\";\", decimal=\".\", header=0)\n",
    "\n",
    "df_water[\"data\"] = pd.to_datetime(df_water[\"data\"], format=\"%d/%m/%Y\")\n",
    "df_electricity[\"data\"] = pd.to_datetime(df_electricity[\"data\"], format=\"%d/%m/%Y\")\n",
    "df_climatic[\"data\"] = pd.to_datetime(df_climatic[\"data\"], format=\"%d/%m/%Y\")\n",
    "\n",
    "df_water.set_index(\"data\", inplace=True)\n",
    "df_electricity.set_index(\"data\", inplace=True)\n",
    "df_climatic.set_index(\"data\", inplace=True)\n",
    "\n"
   ],
   "metadata": {
    "collapsed": false,
    "ExecuteTime": {
     "end_time": "2024-06-09T03:15:55.980992Z",
     "start_time": "2024-06-09T03:15:55.389916Z"
    }
   },
   "id": "73429363fb53c4ac",
   "outputs": [],
   "execution_count": 2
  },
  {
   "cell_type": "markdown",
   "source": [
    "# Pré-Processamento\n",
    "## Dados climáticos faltantes"
   ],
   "metadata": {
    "collapsed": false
   },
   "id": "559730eb71e02daa"
  },
  {
   "cell_type": "code",
   "source": [
    "for index, row in df_climatic[df_climatic.isnull()].to_pandas().iterrows():\n",
    "    df_mes = df_climatic[df_climatic[\"mes\"] == df_climatic.at[index, \"mes\"]]\n",
    "    for col in row.index:\n",
    "        if pandas.isnull(df_climatic.at[index, col]):\n",
    "            df_mes.at[index, col] = df_mes[col].sum() / df_mes[col][df_mes[col].isnull() == False].count()\n",
    "            df_climatic.at[index, col] = df_mes.at[index, col]"
   ],
   "metadata": {
    "collapsed": false,
    "jupyter": {
     "is_executing": true
    },
    "ExecuteTime": {
     "start_time": "2024-06-09T03:15:55.984171Z"
    }
   },
   "id": "20ae521d263691c",
   "outputs": [],
   "execution_count": null
  },
  {
   "cell_type": "markdown",
   "source": [
    "## Obtenção dos LAGS"
   ],
   "metadata": {
    "collapsed": false
   },
   "id": "8097a93df49fe1a8"
  },
  {
   "cell_type": "code",
   "source": [
    "for lag_col in [\"consumo\"]:\n",
    "    for i in range(1, 12 + 1):\n",
    "        lag_eletricity = df_electricity[lag_col].shift(i)\n",
    "        df_electricity[f'{lag_col}_LAG_' + '{:02d}'.format(i)] = lag_eletricity\n",
    "\n",
    "        lag_water = df_water[lag_col].shift(i)\n",
    "        df_water[f'{lag_col}_LAG_' + '{:02d}'.format(i)] = lag_water"
   ],
   "metadata": {
    "collapsed": false,
    "jupyter": {
     "is_executing": true
    }
   },
   "id": "59c87d57d33178",
   "outputs": [],
   "execution_count": null
  },
  {
   "cell_type": "markdown",
   "source": [
    "## União dos dados climáticos aos dados de consumo"
   ],
   "metadata": {
    "collapsed": false
   },
   "id": "bf455533d3b84e8b"
  },
  {
   "cell_type": "code",
   "source": [
    "df_water = pd.merge(left=df_water, right=df_climatic, on=[\"data\", \"mes\", \"ano\"], how=\"left\")\n",
    "df_water = df_water.drop(\"leitura\", axis=1)\n",
    "df_water = df_water.astype(\"float32\")\n",
    "\n",
    "df_electricity = pd.merge(left=df_electricity, right=df_climatic, on=[\"data\", \"mes\", \"ano\"], how=\"left\")\n",
    "df_electricity = df_electricity.drop(\"leitura\", axis=1)\n",
    "df_electricity = df_electricity.to_pandas.astype(\"float32\")\n"
   ],
   "metadata": {
    "collapsed": false,
    "jupyter": {
     "is_executing": true
    }
   },
   "id": "245bb664be419ac8",
   "outputs": [],
   "execution_count": null
  },
  {
   "cell_type": "markdown",
   "source": [
    "## Criação das variáveis Dummy (mês e ano)"
   ],
   "metadata": {
    "collapsed": false
   },
   "id": "3c520eeb0184fc5b"
  },
  {
   "cell_type": "code",
   "source": [
    "df_meses = pd.get_dummies(df_electricity[\"mes\"].astype(int), prefix=\"\", prefix_sep=\"\", dtype=int).rename(\n",
    "    columns={\"1\": \"mes_JAN\", \"2\": \"mes_FEV\", \"3\": \"mes_MAR\", \"4\": \"mes_ABR\", \"5\": \"mes_MAI\", \"6\": \"mes_JUN\",\n",
    "             \"7\": \"mes_JUL\", \"8\": \"mes_AGO\", \"9\": \"mes_SET\", \"10\": \"mes_OUT\", \"11\": \"mes_NOV\", \"12\": \"mes_DEZ\"}\n",
    ")\n",
    "df_anos = pd.get_dummies(df_electricity[\"ano\"].astype(int), prefix=\"\", prefix_sep=\"\", dtype=int).rename(\n",
    "    columns={\"2017\": \"ano_2017\", \"2018\": \"ano_2018\", \"2019\": \"ano_2019\", \"2020\": \"ano_2020\", \"2021\": \"ano_2021\",\n",
    "             \"2022\": \"ano_2022\", \"2023\": \"ano_2023\", \"2024\": \"ano_2024\"}\n",
    ")\n",
    "df_electricity = pd.concat([df_electricity, df_meses, df_anos], axis=1)\n",
    "df_electricity = df_electricity.drop([\"mes\", \"ano\"], axis=1)\n",
    "df_electricity = df_electricity.dropna()\n",
    "\n",
    "df_meses = pd.get_dummies(df_water[\"mes\"].astype(int), prefix=\"\", prefix_sep=\"\", dtype=int).rename(\n",
    "    columns={\"1\": \"mes_JAN\", \"2\": \"mes_FEV\", \"3\": \"mes_MAR\", \"4\": \"mes_ABR\", \"5\": \"mes_MAI\", \"6\": \"mes_JUN\",\n",
    "             \"7\": \"mes_JUL\", \"8\": \"mes_AGO\", \"9\": \"mes_SET\", \"10\": \"mes_OUT\", \"11\": \"mes_NOV\", \"12\": \"mes_DEZ\"}\n",
    ")\n",
    "df_anos = pd.get_dummies(df_water[\"ano\"].astype(int), prefix=\"\", prefix_sep=\"\", dtype=int).rename(\n",
    "    columns={\"2017\": \"ano_2017\", \"2018\": \"ano_2018\", \"2019\": \"ano_2019\", \"2020\": \"ano_2020\", \"2021\": \"ano_2021\",\n",
    "             \"2022\": \"ano_2022\", \"2023\": \"ano_2023\", \"2024\": \"ano_2024\"}\n",
    ")\n",
    "df_water = pd.concat([df_water, df_meses, df_anos], axis=1)\n",
    "df_water = df_water.drop([\"mes\", \"ano\"], axis=1)\n",
    "df_water = df_water.dropna()\n",
    "\n",
    "df_show = df_electricity.to_pandas()\n",
    "df_show"
   ],
   "metadata": {
    "collapsed": false,
    "jupyter": {
     "is_executing": true
    }
   },
   "id": "3350975c606ba2f3",
   "outputs": [],
   "execution_count": null
  },
  {
   "cell_type": "markdown",
   "source": [],
   "metadata": {
    "collapsed": false
   },
   "id": "420d7768ec87dff0"
  },
  {
   "cell_type": "markdown",
   "source": [
    "# Análise de Correlações\n",
    "## Eletricidade\n",
    "### Correlação com os LAGS"
   ],
   "metadata": {
    "collapsed": false
   },
   "id": "e6fbbaaa4d4bf3e0"
  },
  {
   "cell_type": "code",
   "source": [
    "corr_matrix = df_electricity[df_electricity.to_pandas().filter(like=\"consumo\").columns].dropna().to_pandas().corr(\n",
    "    numeric_only=True)\n",
    "sns.heatmap(corr_matrix,\n",
    "            cmap=\"coolwarm\",\n",
    "            center=0,\n",
    "            annot=True,\n",
    "            fmt='.0g')"
   ],
   "metadata": {
    "collapsed": false,
    "jupyter": {
     "is_executing": true
    }
   },
   "id": "203cab94b7b5dc4a",
   "outputs": [],
   "execution_count": null
  },
  {
   "cell_type": "markdown",
   "source": [
    "### Correlação com as variáveis climáticas"
   ],
   "metadata": {
    "collapsed": false
   },
   "id": "da6d0ec86da92621"
  },
  {
   "cell_type": "code",
   "source": [
    "corr_matrix = df_electricity.drop(df_electricity.to_pandas().filter(like=\"_LAG_\").columns,\n",
    "                                  axis=1).drop(df_electricity.to_pandas().filter(like=\"mes_\").columns,\n",
    "                                               axis=1).drop(df_electricity.to_pandas().filter(like=\"ano_\").columns,\n",
    "                                                            axis=1).dropna().to_pandas().corr(numeric_only=True)\n",
    "sns.heatmap(corr_matrix,\n",
    "            cmap=\"coolwarm\",\n",
    "            center=0,\n",
    "            annot=True,\n",
    "            fmt='.1g')"
   ],
   "metadata": {
    "collapsed": false,
    "jupyter": {
     "is_executing": true
    }
   },
   "id": "a25983797d302706",
   "outputs": [],
   "execution_count": null
  },
  {
   "cell_type": "markdown",
   "source": [
    "## Água\n",
    "### Correlação com os LAGS"
   ],
   "metadata": {
    "collapsed": false
   },
   "id": "1d9483fd42957a34"
  },
  {
   "cell_type": "code",
   "source": [
    "corr_matrix = df_water[df_water.to_pandas().filter(like=\"consumo\").columns].dropna().to_pandas().corr(numeric_only=True)\n",
    "sns.heatmap(corr_matrix,\n",
    "            cmap=\"coolwarm\",\n",
    "            center=0,\n",
    "            annot=True,\n",
    "            fmt='.0g')"
   ],
   "metadata": {
    "collapsed": false,
    "jupyter": {
     "is_executing": true
    }
   },
   "id": "2527f240a158ae44",
   "outputs": [],
   "execution_count": null
  },
  {
   "cell_type": "markdown",
   "source": [
    "### Correlação com as variáveis climáticas"
   ],
   "metadata": {
    "collapsed": false
   },
   "id": "71dc952b4e1ab031"
  },
  {
   "cell_type": "code",
   "source": [
    "corr_matrix = df_water.drop(df_water.to_pandas().filter(like=\"_LAG_\").columns,\n",
    "                            axis=1).drop(df_water.to_pandas().filter(like=\"mes_\").columns,\n",
    "                                         axis=1).drop(df_water.to_pandas().filter(like=\"ano_\").columns,\n",
    "                                                      axis=1).dropna().to_pandas().corr(numeric_only=True)\n",
    "sns.heatmap(corr_matrix,\n",
    "            cmap=\"coolwarm\",\n",
    "            center=0,\n",
    "            annot=True,\n",
    "            fmt='.1g')"
   ],
   "metadata": {
    "collapsed": false,
    "jupyter": {
     "is_executing": true
    }
   },
   "id": "50dd3403096d927d",
   "outputs": [],
   "execution_count": null
  },
  {
   "cell_type": "markdown",
   "source": [
    "## Correlação entre o Consumo de Eletricidade e de Água\n"
   ],
   "metadata": {
    "collapsed": false
   },
   "id": "f8bd7ba5135da593"
  },
  {
   "cell_type": "code",
   "source": [
    "corr_matrix = pd.merge(left=df_electricity[\"consumo\"], right=df_water[\"consumo\"],\n",
    "                       on=[\"data\"], how=\"inner\",\n",
    "                       suffixes=[' electricity', ' water']).dropna().to_pandas().corr(numeric_only=True)\n",
    "sns.heatmap(corr_matrix,\n",
    "            cmap=\"coolwarm\",\n",
    "            center=0,\n",
    "            annot=True,\n",
    "            fmt='.1g')\n"
   ],
   "metadata": {
    "collapsed": false,
    "jupyter": {
     "is_executing": true
    }
   },
   "id": "fc8cc19647b81a53",
   "outputs": [],
   "execution_count": null
  },
  {
   "cell_type": "markdown",
   "source": [
    "# Análise dos SHAP Values\n",
    "## Eletricidade\n",
    "### Random Forest"
   ],
   "metadata": {
    "collapsed": false
   },
   "id": "b63848b390147d73"
  },
  {
   "cell_type": "code",
   "source": [
    "df_electricity_copy = df_electricity.dropna().copy().to_pandas()\n",
    "\n",
    "x_electricity = df_electricity_copy.drop(\"consumo\", axis=1)\n",
    "y_electricity = df_electricity_copy[\"consumo\"]\n",
    "model_rf = RandomForestRegressor()\n",
    "shap.initjs()\n",
    "\n",
    "model_rf.fit(x_electricity, y_electricity)\n",
    "\n",
    "explainer_rf = shap.Explainer(model_rf)\n",
    "shap_rf = explainer_rf(x_electricity)\n",
    "\n",
    "shap.plots.waterfall(shap_rf[0], max_display=10)\n",
    "shap.plots.force(shap_rf[0])\n",
    "shap.plots.bar(shap_rf)\n"
   ],
   "metadata": {
    "collapsed": false,
    "jupyter": {
     "is_executing": true
    }
   },
   "id": "3dc260de37d498c3",
   "outputs": [],
   "execution_count": null
  },
  {
   "cell_type": "markdown",
   "source": [
    "### XGBoost"
   ],
   "metadata": {
    "collapsed": false
   },
   "id": "314ed5331c39c10"
  },
  {
   "cell_type": "code",
   "source": [
    "df_electricity_copy = df_electricity.dropna().copy().to_pandas()\n",
    "\n",
    "x_electricity = df_electricity_copy.drop(\"consumo\", axis=1)\n",
    "y_electricity = df_electricity_copy[\"consumo\"]\n",
    "\n",
    "model_xgb = XGBRegressor(objective='reg:squarederror')\n",
    "shap.initjs()\n",
    "\n",
    "model_xgb.fit(x_electricity, y_electricity)\n",
    "\n",
    "explainer_xgb = shap.Explainer(model_xgb)\n",
    "shap_xgb = explainer_xgb(x_electricity)\n",
    "\n",
    "shap.plots.waterfall(shap_xgb[0], max_display=10)\n",
    "shap.plots.force(shap_xgb[0])\n",
    "shap.plots.bar(shap_xgb)"
   ],
   "metadata": {
    "collapsed": false,
    "jupyter": {
     "is_executing": true
    }
   },
   "id": "25f04550785acb2d",
   "outputs": [],
   "execution_count": null
  },
  {
   "cell_type": "markdown",
   "source": [
    "## Água\n",
    "### Random Forest"
   ],
   "metadata": {
    "collapsed": false
   },
   "id": "e4d8dad58c4f3a0a"
  },
  {
   "cell_type": "code",
   "source": [
    "df_water_copy = df_water.dropna().copy().to_pandas()\n",
    "\n",
    "x_water = df_water_copy.drop(\"consumo\", axis=1)\n",
    "y_water = df_water_copy[\"consumo\"]\n",
    "model_rf = RandomForestRegressor()\n",
    "shap.initjs()\n",
    "\n",
    "model_rf.fit(x_water, y_water)\n",
    "\n",
    "explainer_rf = shap.Explainer(model_rf)\n",
    "shap_rf = explainer_rf(x_water)\n",
    "\n",
    "shap.plots.waterfall(shap_rf[0], max_display=10)\n",
    "shap.plots.force(shap_rf[0])\n",
    "shap.plots.bar(shap_rf)\n"
   ],
   "metadata": {
    "collapsed": false,
    "jupyter": {
     "is_executing": true
    }
   },
   "id": "e3a887cd8e14ee58",
   "outputs": [],
   "execution_count": null
  },
  {
   "cell_type": "markdown",
   "source": [
    "### XGBoost"
   ],
   "metadata": {
    "collapsed": false
   },
   "id": "355813e190d32d81"
  },
  {
   "cell_type": "code",
   "source": [
    "df_water_copy = df_water.dropna().copy().to_pandas()\n",
    "\n",
    "x_water = df_water_copy.drop(\"consumo\", axis=1)\n",
    "y_water = df_water_copy[\"consumo\"]\n",
    "\n",
    "model_xgb = XGBRegressor(objective='reg:squarederror')\n",
    "shap.initjs()\n",
    "\n",
    "model_xgb.fit(x_water, y_water)\n",
    "\n",
    "explainer_xgb = shap.Explainer(model_xgb)\n",
    "shap_xgb = explainer_xgb(x_water)\n",
    "\n",
    "shap.plots.waterfall(shap_xgb[0], max_display=10)\n",
    "shap.plots.force(shap_xgb[0])\n",
    "shap.plots.bar(shap_xgb)"
   ],
   "metadata": {
    "collapsed": false,
    "jupyter": {
     "is_executing": true
    }
   },
   "id": "9cb289a4dcf1c603",
   "outputs": [],
   "execution_count": null
  },
  {
   "cell_type": "markdown",
   "source": [
    "# Configuração dos Otimizadores\n",
    "## Algoritmo Genético\n",
    "### Indivíduos"
   ],
   "metadata": {
    "collapsed": false
   },
   "id": "8a20cb439079a737"
  },
  {
   "cell_type": "code",
   "source": [
    "        \n",
    "\n",
    "\n",
    "       \n",
    "\n",
    "    \n",
    "    "
   ],
   "metadata": {
    "collapsed": false,
    "jupyter": {
     "is_executing": true
    }
   },
   "id": "66c830f88912d062",
   "outputs": [],
   "execution_count": null
  },
  {
   "cell_type": "markdown",
   "source": [
    "### Operações"
   ],
   "metadata": {
    "collapsed": false
   },
   "id": "3a77d8f401e9367b"
  },
  {
   "cell_type": "code",
   "source": [
    "class GA:\n",
    "    def __init__(self, dataset, n_individuos, n_populacao, crossover, mutacao):\n",
    "        self.dataset = dataset\n",
    "        self.n_individuos = n_individuos\n",
    "        self.n_populacao = n_populacao\n",
    "        self.crossover = crossover\n",
    "        self.mutacao = mutacao\n",
    "        self.populacao = []"
   ],
   "metadata": {
    "collapsed": false,
    "jupyter": {
     "is_executing": true
    }
   },
   "id": "75eecff7358788e",
   "outputs": [],
   "execution_count": null
  },
  {
   "cell_type": "markdown",
   "source": [
    "## Enxame de Partículas"
   ],
   "metadata": {
    "collapsed": false
   },
   "id": "921a2196f8f7a5a6"
  },
  {
   "cell_type": "code",
   "source": [],
   "metadata": {
    "collapsed": false,
    "jupyter": {
     "is_executing": true
    }
   },
   "id": "c4c6224298ba6589",
   "outputs": [],
   "execution_count": null
  },
  {
   "cell_type": "markdown",
   "source": [
    "# Aplicação dos Otimizadores\n",
    "## Random Forest\n",
    "### Eletricidade"
   ],
   "metadata": {
    "collapsed": false
   },
   "id": "1fff4de69f44d41d"
  },
  {
   "cell_type": "code",
   "source": [],
   "metadata": {
    "collapsed": false,
    "jupyter": {
     "is_executing": true
    }
   },
   "id": "236caf6730ed692a",
   "outputs": [],
   "execution_count": null
  },
  {
   "cell_type": "markdown",
   "source": [
    "### Água"
   ],
   "metadata": {
    "collapsed": false
   },
   "id": "fc937ec3c78bc4c1"
  },
  {
   "cell_type": "code",
   "source": [],
   "metadata": {
    "collapsed": false,
    "jupyter": {
     "is_executing": true
    }
   },
   "id": "e5ec6ca3b4604bee",
   "outputs": [],
   "execution_count": null
  },
  {
   "cell_type": "markdown",
   "source": [
    "## XGBoost\n",
    "### Eletricidade"
   ],
   "metadata": {
    "collapsed": false
   },
   "id": "e74855edc797a8e6"
  },
  {
   "cell_type": "code",
   "source": [],
   "metadata": {
    "collapsed": false,
    "jupyter": {
     "is_executing": true
    }
   },
   "id": "fc270813a7c3a24c",
   "outputs": [],
   "execution_count": null
  },
  {
   "cell_type": "markdown",
   "source": [
    "### Água"
   ],
   "metadata": {
    "collapsed": false
   },
   "id": "66c5108781953126"
  },
  {
   "cell_type": "code",
   "source": [],
   "metadata": {
    "collapsed": false,
    "jupyter": {
     "is_executing": true
    }
   },
   "id": "4600cff3602b1450",
   "outputs": [],
   "execution_count": null
  },
  {
   "cell_type": "markdown",
   "source": [
    "## SVR\n",
    "### Eletricidade"
   ],
   "metadata": {
    "collapsed": false
   },
   "id": "27bdb2e123c383c1"
  },
  {
   "cell_type": "code",
   "source": [],
   "metadata": {
    "collapsed": false,
    "jupyter": {
     "is_executing": true
    }
   },
   "id": "84d7a6c888949595",
   "outputs": [],
   "execution_count": null
  },
  {
   "cell_type": "markdown",
   "source": [
    "### Água"
   ],
   "metadata": {
    "collapsed": false
   },
   "id": "6b22084680bbdfd0"
  },
  {
   "cell_type": "code",
   "source": [],
   "metadata": {
    "collapsed": false,
    "jupyter": {
     "is_executing": true
    }
   },
   "id": "a5ccd835cf107b86",
   "outputs": [],
   "execution_count": null
  },
  {
   "cell_type": "markdown",
   "source": [
    "## LSTM\n",
    "### Eletricidade"
   ],
   "metadata": {
    "collapsed": false
   },
   "id": "6e8ddf2c403efbc8"
  },
  {
   "cell_type": "code",
   "source": [],
   "metadata": {
    "collapsed": false,
    "jupyter": {
     "is_executing": true
    }
   },
   "id": "129ca77e5926db8a",
   "outputs": [],
   "execution_count": null
  },
  {
   "cell_type": "markdown",
   "source": [
    "### Água"
   ],
   "metadata": {
    "collapsed": false
   },
   "id": "51d4ba73afbb49ed"
  },
  {
   "cell_type": "code",
   "source": [],
   "metadata": {
    "collapsed": false,
    "jupyter": {
     "is_executing": true
    }
   },
   "id": "3a87f082bb4abbd5",
   "outputs": [],
   "execution_count": null
  },
  {
   "cell_type": "markdown",
   "source": [
    "## XGBoost\n",
    "### Eletricidade"
   ],
   "metadata": {
    "collapsed": false
   },
   "id": "343de022a985230"
  },
  {
   "cell_type": "code",
   "source": [],
   "metadata": {
    "collapsed": false,
    "jupyter": {
     "is_executing": true
    }
   },
   "id": "e3e7417570c475a8",
   "outputs": [],
   "execution_count": null
  },
  {
   "cell_type": "markdown",
   "source": [
    "### Água"
   ],
   "metadata": {
    "collapsed": false
   },
   "id": "f74c2bd2cb478bf3"
  },
  {
   "cell_type": "code",
   "source": [],
   "metadata": {
    "collapsed": false,
    "jupyter": {
     "is_executing": true
    }
   },
   "id": "b246dc3cfe1cff4d",
   "outputs": [],
   "execution_count": null
  },
  {
   "cell_type": "markdown",
   "source": [
    "# Previsões\n",
    "## Eletricidade\n",
    "### 3 Passos à frente"
   ],
   "metadata": {
    "collapsed": false
   },
   "id": "29405b274310a71b"
  },
  {
   "cell_type": "code",
   "source": [
    "reset_seed()\n",
    "x_electricity = df_electricity.drop(\"consumo\", axis=1)\n",
    "y_electricity = df_electricity[\"consumo\"]\n",
    "\n",
    "xgb_electricity = XGBRegressor()\n",
    "rf_electricity = CuRF(n_streams=1, n_bins=x_electricity.shape[1])\n",
    "svr_electricity = SVR()\n",
    "lstm_electricity = Sequential([\n",
    "    Input((x_electricity.shape[1], 1), batch_size=x_electricity.shape[1]),\n",
    "    LSTM(30, activation='relu', seed=SEED),\n",
    "    Dense(1),\n",
    "])\n",
    "lstm_electricity.compile(loss='mse', metrics=['mean_absolute_error'])\n",
    "\n",
    "x_train, x_test, y_train, y_test = train_test_split(x_electricity, y_electricity, test_size=3, shuffle=False)\n",
    "\n",
    "cvs_electricity = pd.DataFrame()\n",
    "for i_train, i_test in TimeSeriesSplit(n_splits=12, test_size=1).split(x_train, y_train):\n",
    "    kx_train, kx_test = x_train.iloc[i_train].to_numpy(), x_train.iloc[i_test].to_numpy()\n",
    "    ky_train, ky_test = y_train.iloc[i_train].to_numpy(), y_train.iloc[i_test].to_numpy()\n",
    "\n",
    "    xgb_electricity.fit(kx_train, ky_train)\n",
    "    rf_electricity.fit(kx_train, ky_train)\n",
    "    svr_electricity.fit(kx_train, ky_train)\n",
    "    lstm_electricity.fit(kx_train, ky_train, shuffle=False, verbose=False, epochs=50, batch_size=x_electricity.shape[1])\n",
    "\n",
    "    cvs_electricity.append({\n",
    "        \"XGB\": mean_absolute_percentage_error(xgb_electricity.predict(kx_test), ky_test),\n",
    "        \"RF\": mean_absolute_percentage_error(rf_electricity.predict(kx_test), ky_test),\n",
    "        \"SVR\": mean_absolute_percentage_error(svr_electricity.predict(kx_test), ky_test),\n",
    "        \"LSTM\": mean_absolute_percentage_error(lstm_electricity.predict(kx_test), ky_test)\n",
    "    })\n",
    "\n",
    "cvs_electricity\n"
   ],
   "metadata": {
    "collapsed": false,
    "jupyter": {
     "is_executing": true
    }
   },
   "id": "affa8389121b3b03",
   "outputs": [],
   "execution_count": null
  },
  {
   "cell_type": "markdown",
   "source": [
    "### 6 Passos à frente"
   ],
   "metadata": {
    "collapsed": false
   },
   "id": "16178f65debc9ff4"
  },
  {
   "cell_type": "code",
   "source": [],
   "metadata": {
    "collapsed": false,
    "jupyter": {
     "is_executing": true
    }
   },
   "id": "6659cf7ebd8217fa",
   "outputs": [],
   "execution_count": null
  },
  {
   "cell_type": "markdown",
   "source": [
    "### 12 Passos à frente"
   ],
   "metadata": {
    "collapsed": false
   },
   "id": "4f58661c14d4c9ed"
  },
  {
   "cell_type": "code",
   "source": [],
   "metadata": {
    "collapsed": false,
    "jupyter": {
     "is_executing": true
    }
   },
   "id": "53da7b76e64a75a3",
   "outputs": [],
   "execution_count": null
  },
  {
   "cell_type": "markdown",
   "source": [
    "## Água\n",
    "### 3 Passos à frente"
   ],
   "metadata": {
    "collapsed": false
   },
   "id": "8c99bede6775cf6"
  },
  {
   "cell_type": "code",
   "source": [],
   "metadata": {
    "collapsed": false,
    "jupyter": {
     "is_executing": true
    }
   },
   "id": "d8b9b9a43a9d2e99",
   "outputs": [],
   "execution_count": null
  },
  {
   "cell_type": "markdown",
   "source": [
    "### 6 Passos à frente"
   ],
   "metadata": {
    "collapsed": false
   },
   "id": "7ea5d075f2d6a520"
  },
  {
   "cell_type": "code",
   "source": [],
   "metadata": {
    "collapsed": false,
    "jupyter": {
     "is_executing": true
    }
   },
   "id": "148be2114d695794",
   "outputs": [],
   "execution_count": null
  },
  {
   "cell_type": "markdown",
   "source": [
    "12 Passos à frente"
   ],
   "metadata": {
    "collapsed": false
   },
   "id": "736804d0991388ec"
  }
 ],
 "metadata": {
  "kernelspec": {
   "display_name": "Python 3",
   "language": "python",
   "name": "python3"
  },
  "language_info": {
   "codemirror_mode": {
    "name": "ipython",
    "version": 2
   },
   "file_extension": ".py",
   "mimetype": "text/x-python",
   "name": "python",
   "nbconvert_exporter": "python",
   "pygments_lexer": "ipython2",
   "version": "2.7.6"
  }
 },
 "nbformat": 4,
 "nbformat_minor": 5
}

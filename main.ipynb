{
 "cells": [
  {
   "cell_type": "markdown",
   "source": [
    "# Imports"
   ],
   "metadata": {
    "collapsed": false
   },
   "id": "2f3c2e68d8cd2c13"
  },
  {
   "cell_type": "code",
   "source": [
    "import cudf as pd\n",
    "import numpy as np\n",
    "import pandas\n",
    "import shap\n",
    "import seaborn as sns\n",
    "import numpy\n",
    "import cupy\n",
    "import tensorflow\n",
    "import os\n",
    "import random\n",
    "\n",
    "os.environ['TF_CPP_MIN_LOG_LEVEL'] = '1'\n",
    "\n",
    "from cuml import train_test_split\n",
    "from cuml import SVR\n",
    "from cuml import RandomForestRegressor as CuRF\n",
    "from keras import Sequential\n",
    "from keras.src.layers import Input, LSTM, Dense\n",
    "from sklearn.ensemble import RandomForestRegressor\n",
    "from sklearn.metrics import mean_absolute_percentage_error\n",
    "from sklearn.model_selection import TimeSeriesSplit\n",
    "from xgboost import XGBRegressor\n",
    "\n",
    "from dask_cuda import LocalCUDACluster\n",
    "from dask.distributed import Client\n",
    "\n",
    "SEED = 100\n",
    "\n",
    "\n",
    "def reset_seed():\n",
    "    os.environ['PYTHONHASHSEED'] = '0'\n",
    "    random.seed(SEED)\n",
    "    numpy.random.seed(SEED)\n",
    "    cupy.random.seed(SEED)\n",
    "    tensorflow.random.set_seed(SEED)\n",
    "\n",
    "\n",
    "cluster = LocalCUDACluster(dashboard_address=':3790')\n",
    "client = Client(cluster)\n",
    "reset_seed()\n"
   ],
   "metadata": {
    "collapsed": false,
    "ExecuteTime": {
     "end_time": "2024-06-09T03:07:20.431333Z",
     "start_time": "2024-06-09T03:07:15.764239Z"
    }
   },
   "id": "b6e345ae81073f29",
   "outputs": [
    {
     "name": "stderr",
     "output_type": "stream",
     "text": [
      "/home/eduardoalba0/.conda/envs/rapids-24.06/lib/python3.11/site-packages/distributed/node.py:182: UserWarning: Port 3790 is already in use.\n",
      "Perhaps you already have a cluster running?\n",
      "Hosting the HTTP server on port 43817 instead\n",
      "  warnings.warn(\n",
      "/home/eduardoalba0/.conda/envs/rapids-24.06/lib/python3.11/site-packages/dask_cuda/utils.py:170: UserWarning: Cannot get CPU affinity for device with index 0, setting default affinity\n",
      "  warnings.warn(\n"
     ]
    }
   ],
   "execution_count": 7
  },
  {
   "cell_type": "markdown",
   "source": [
    "# Load Datasets"
   ],
   "metadata": {
    "collapsed": false
   },
   "id": "d53fe60dddad7a9"
  },
  {
   "cell_type": "code",
   "source": [
    "df_water = pd.read_csv('./dataset/water.csv', sep=\";\", decimal=\".\", header=0)\n",
    "df_electricity = pd.read_csv('./dataset/electricity.csv', sep=\";\", decimal=\".\", header=0)\n",
    "df_climatic = pd.read_csv('./dataset/climatic.csv', sep=\";\", decimal=\".\", header=0)\n",
    "\n",
    "df_water[\"data\"] = pd.to_datetime(df_water[\"data\"], format=\"%d/%m/%Y\")\n",
    "df_electricity[\"data\"] = pd.to_datetime(df_electricity[\"data\"], format=\"%d/%m/%Y\")\n",
    "df_climatic[\"data\"] = pd.to_datetime(df_climatic[\"data\"], format=\"%d/%m/%Y\")\n",
    "\n",
    "df_water.set_index(\"data\", inplace=True)\n",
    "df_electricity.set_index(\"data\", inplace=True)\n",
    "df_climatic.set_index(\"data\", inplace=True)\n",
    "\n"
   ],
   "metadata": {
    "collapsed": false,
    "ExecuteTime": {
     "end_time": "2024-06-09T03:07:21.574891Z",
     "start_time": "2024-06-09T03:07:21.328292Z"
    }
   },
   "id": "73429363fb53c4ac",
   "outputs": [],
   "execution_count": 8
  },
  {
   "cell_type": "markdown",
   "source": [
    "# Pré-Processamento\n",
    "## Dados climáticos faltantes"
   ],
   "metadata": {
    "collapsed": false
   },
   "id": "559730eb71e02daa"
  },
  {
   "cell_type": "code",
   "source": [
    "for index, row in df_climatic[df_climatic.isnull()].to_pandas().iterrows():\n",
    "    df_mes = df_climatic[df_climatic[\"mes\"] == df_climatic.at[index, \"mes\"]]\n",
    "    for col in row.index:\n",
    "        if pandas.isnull(df_climatic.at[index, col]):\n",
    "            df_mes.at[index, col] = df_mes[col].sum() / df_mes[col][df_mes[col].isnull() == False].count()\n",
    "            df_climatic.at[index, col] = df_mes.at[index, col]"
   ],
   "metadata": {
    "collapsed": false,
    "ExecuteTime": {
     "end_time": "2024-06-09T03:07:50.703064Z",
     "start_time": "2024-06-09T03:07:23.835854Z"
    }
   },
   "id": "20ae521d263691c",
   "outputs": [],
   "execution_count": 9
  },
  {
   "cell_type": "markdown",
   "source": [
    "## Obtenção dos LAGS"
   ],
   "metadata": {
    "collapsed": false
   },
   "id": "8097a93df49fe1a8"
  },
  {
   "cell_type": "code",
   "source": [
    "for lag_col in [\"consumo\"]:\n",
    "    for i in range(1, 12 + 1):\n",
    "        lag_eletricity = df_electricity[lag_col].shift(i)\n",
    "        df_electricity[f'{lag_col}_LAG_' + '{:02d}'.format(i)] = lag_eletricity\n",
    "\n",
    "        lag_water = df_water[lag_col].shift(i)\n",
    "        df_water[f'{lag_col}_LAG_' + '{:02d}'.format(i)] = lag_water"
   ],
   "metadata": {
    "collapsed": false,
    "ExecuteTime": {
     "end_time": "2024-06-09T03:07:50.850892Z",
     "start_time": "2024-06-09T03:07:50.705858Z"
    }
   },
   "id": "59c87d57d33178",
   "outputs": [],
   "execution_count": 10
  },
  {
   "cell_type": "markdown",
   "source": [
    "## União dos dados climáticos aos dados de consumo"
   ],
   "metadata": {
    "collapsed": false
   },
   "id": "bf455533d3b84e8b"
  },
  {
   "cell_type": "code",
   "source": [
    "df_water = pd.merge(left=df_water, right=df_climatic, on=[\"data\", \"mes\", \"ano\"], how=\"left\")\n",
    "df_water = df_water.drop(\"leitura\", axis=1)\n",
    "df_water = df_water.astype[\"float32\"]\n",
    "\n",
    "df_electricity = pd.merge(left=df_electricity, right=df_climatic, on=[\"data\", \"mes\", \"ano\"], how=\"left\")\n",
    "df_electricity = df_electricity.drop(\"leitura\", axis=1)\n",
    "df_electricity = df_electricity.astype[\"float32\"]\n"
   ],
   "metadata": {
    "collapsed": false,
    "ExecuteTime": {
     "end_time": "2024-06-09T03:08:02.482661Z",
     "start_time": "2024-06-09T03:08:02.253967Z"
    }
   },
   "id": "245bb664be419ac8",
   "outputs": [
    {
     "ename": "TypeError",
     "evalue": "'method' object is not subscriptable",
     "output_type": "error",
     "traceback": [
      "\u001B[0;31m---------------------------------------------------------------------------\u001B[0m",
      "\u001B[0;31mTypeError\u001B[0m                                 Traceback (most recent call last)",
      "Cell \u001B[0;32mIn[11], line 3\u001B[0m\n\u001B[1;32m      1\u001B[0m df_water \u001B[38;5;241m=\u001B[39m pd\u001B[38;5;241m.\u001B[39mmerge(left\u001B[38;5;241m=\u001B[39mdf_water, right\u001B[38;5;241m=\u001B[39mdf_climatic, on\u001B[38;5;241m=\u001B[39m[\u001B[38;5;124m\"\u001B[39m\u001B[38;5;124mdata\u001B[39m\u001B[38;5;124m\"\u001B[39m, \u001B[38;5;124m\"\u001B[39m\u001B[38;5;124mmes\u001B[39m\u001B[38;5;124m\"\u001B[39m, \u001B[38;5;124m\"\u001B[39m\u001B[38;5;124mano\u001B[39m\u001B[38;5;124m\"\u001B[39m], how\u001B[38;5;241m=\u001B[39m\u001B[38;5;124m\"\u001B[39m\u001B[38;5;124mleft\u001B[39m\u001B[38;5;124m\"\u001B[39m)\n\u001B[1;32m      2\u001B[0m df_water \u001B[38;5;241m=\u001B[39m df_water\u001B[38;5;241m.\u001B[39mdrop(\u001B[38;5;124m\"\u001B[39m\u001B[38;5;124mleitura\u001B[39m\u001B[38;5;124m\"\u001B[39m, axis\u001B[38;5;241m=\u001B[39m\u001B[38;5;241m1\u001B[39m)\n\u001B[0;32m----> 3\u001B[0m df_water \u001B[38;5;241m=\u001B[39m \u001B[43mdf_water\u001B[49m\u001B[38;5;241;43m.\u001B[39;49m\u001B[43mastype\u001B[49m\u001B[43m[\u001B[49m\u001B[38;5;124;43m\"\u001B[39;49m\u001B[38;5;124;43mfloat32\u001B[39;49m\u001B[38;5;124;43m\"\u001B[39;49m\u001B[43m]\u001B[49m\n\u001B[1;32m      5\u001B[0m df_electricity \u001B[38;5;241m=\u001B[39m pd\u001B[38;5;241m.\u001B[39mmerge(left\u001B[38;5;241m=\u001B[39mdf_electricity, right\u001B[38;5;241m=\u001B[39mdf_climatic, on\u001B[38;5;241m=\u001B[39m[\u001B[38;5;124m\"\u001B[39m\u001B[38;5;124mdata\u001B[39m\u001B[38;5;124m\"\u001B[39m, \u001B[38;5;124m\"\u001B[39m\u001B[38;5;124mmes\u001B[39m\u001B[38;5;124m\"\u001B[39m, \u001B[38;5;124m\"\u001B[39m\u001B[38;5;124mano\u001B[39m\u001B[38;5;124m\"\u001B[39m], how\u001B[38;5;241m=\u001B[39m\u001B[38;5;124m\"\u001B[39m\u001B[38;5;124mleft\u001B[39m\u001B[38;5;124m\"\u001B[39m)\n\u001B[1;32m      6\u001B[0m df_electricity \u001B[38;5;241m=\u001B[39m df_electricity\u001B[38;5;241m.\u001B[39mdrop(\u001B[38;5;124m\"\u001B[39m\u001B[38;5;124mleitura\u001B[39m\u001B[38;5;124m\"\u001B[39m, axis\u001B[38;5;241m=\u001B[39m\u001B[38;5;241m1\u001B[39m)\n",
      "\u001B[0;31mTypeError\u001B[0m: 'method' object is not subscriptable"
     ]
    }
   ],
   "execution_count": 11
  },
  {
   "cell_type": "markdown",
   "source": [
    "## Criação das variáveis Dummy (mês e ano)"
   ],
   "metadata": {
    "collapsed": false
   },
   "id": "3c520eeb0184fc5b"
  },
  {
   "cell_type": "code",
   "source": [
    "df_meses = pd.get_dummies(df_electricity[\"mes\"].astype(int), prefix=\"\", prefix_sep=\"\", dtype=int).rename(\n",
    "    columns={\"1\": \"mes_JAN\", \"2\": \"mes_FEV\", \"3\": \"mes_MAR\", \"4\": \"mes_ABR\", \"5\": \"mes_MAI\", \"6\": \"mes_JUN\",\n",
    "             \"7\": \"mes_JUL\", \"8\": \"mes_AGO\", \"9\": \"mes_SET\", \"10\": \"mes_OUT\", \"11\": \"mes_NOV\", \"12\": \"mes_DEZ\"}\n",
    ")\n",
    "df_anos = pd.get_dummies(df_electricity[\"ano\"].astype(int), prefix=\"\", prefix_sep=\"\", dtype=int).rename(\n",
    "    columns={\"2017\": \"ano_2017\", \"2018\": \"ano_2018\", \"2019\": \"ano_2019\", \"2020\": \"ano_2020\", \"2021\": \"ano_2021\",\n",
    "             \"2022\": \"ano_2022\", \"2023\": \"ano_2023\", \"2024\": \"ano_2024\"}\n",
    ")\n",
    "df_electricity = pd.concat([df_electricity, df_meses, df_anos], axis=1)\n",
    "df_electricity = df_electricity.drop([\"mes\", \"ano\"], axis=1)\n",
    "df_electricity = df_electricity.dropna()\n",
    "\n",
    "df_meses = pd.get_dummies(df_water[\"mes\"].astype(int), prefix=\"\", prefix_sep=\"\", dtype=int).rename(\n",
    "    columns={\"1\": \"mes_JAN\", \"2\": \"mes_FEV\", \"3\": \"mes_MAR\", \"4\": \"mes_ABR\", \"5\": \"mes_MAI\", \"6\": \"mes_JUN\",\n",
    "             \"7\": \"mes_JUL\", \"8\": \"mes_AGO\", \"9\": \"mes_SET\", \"10\": \"mes_OUT\", \"11\": \"mes_NOV\", \"12\": \"mes_DEZ\"}\n",
    ")\n",
    "df_anos = pd.get_dummies(df_water[\"ano\"].astype(int), prefix=\"\", prefix_sep=\"\", dtype=int).rename(\n",
    "    columns={\"2017\": \"ano_2017\", \"2018\": \"ano_2018\", \"2019\": \"ano_2019\", \"2020\": \"ano_2020\", \"2021\": \"ano_2021\",\n",
    "             \"2022\": \"ano_2022\", \"2023\": \"ano_2023\", \"2024\": \"ano_2024\"}\n",
    ")\n",
    "df_water = pd.concat([df_water, df_meses, df_anos], axis=1)\n",
    "df_water = df_water.drop([\"mes\", \"ano\"], axis=1)\n",
    "df_water = df_water.dropna()\n",
    "\n",
    "df_show = df_electricity.to_pandas()\n",
    "df_show"
   ],
   "metadata": {
    "collapsed": false,
    "ExecuteTime": {
     "end_time": "2024-06-09T03:08:06.350959Z",
     "start_time": "2024-06-09T03:08:05.519627Z"
    }
   },
   "id": "3350975c606ba2f3",
   "outputs": [
    {
     "data": {
      "text/plain": [
       "               leitura  consumo  consumo_LAG_01  consumo_LAG_02  \\\n",
       "data                                                              \n",
       "2018-09-01  23/09/2018    21969           22575           17751   \n",
       "2018-10-01  23/10/2018    20174           21969           22575   \n",
       "2018-11-01  21/11/2018    19998           20174           21969   \n",
       "2018-12-01  21/12/2018    20426           19998           20174   \n",
       "2019-01-01  21/01/2019    10732           20426           19998   \n",
       "...                ...      ...             ...             ...   \n",
       "2023-11-01  30/11/2023    12207           11286           11897   \n",
       "2023-12-01  31/12/2023     9588           12207           11286   \n",
       "2024-01-01  31/01/2024     8226            9588           12207   \n",
       "2024-02-01  29/02/2024    16390            8226            9588   \n",
       "2024-03-01  31/03/2024    19182           16390            8226   \n",
       "\n",
       "            consumo_LAG_03  consumo_LAG_04  consumo_LAG_05  consumo_LAG_06  \\\n",
       "data                                                                         \n",
       "2018-09-01           20841           21095           21052           18671   \n",
       "2018-10-01           17751           20841           21095           21052   \n",
       "2018-11-01           22575           17751           20841           21095   \n",
       "2018-12-01           21969           22575           17751           20841   \n",
       "2019-01-01           20174           21969           22575           17751   \n",
       "...                    ...             ...             ...             ...   \n",
       "2023-11-01           21955           21165           16655           16964   \n",
       "2023-12-01           11897           21955           21165           16655   \n",
       "2024-01-01           11286           11897           21955           21165   \n",
       "2024-02-01           12207           11286           11897           21955   \n",
       "2024-03-01            9588           12207           11286           11897   \n",
       "\n",
       "            consumo_LAG_07  consumo_LAG_08  ...  mes_NOV  mes_DEZ  ano_2017  \\\n",
       "data                                        ...                               \n",
       "2018-09-01           14487           10280  ...        0        0         0   \n",
       "2018-10-01           18671           14487  ...        0        0         0   \n",
       "2018-11-01           21052           18671  ...        1        0         0   \n",
       "2018-12-01           21095           21052  ...        0        1         0   \n",
       "2019-01-01           20841           21095  ...        0        0         0   \n",
       "...                    ...             ...  ...      ...      ...       ...   \n",
       "2023-11-01           14480           15342  ...        1        0         0   \n",
       "2023-12-01           16964           14480  ...        0        1         0   \n",
       "2024-01-01           16655           16964  ...        0        0         0   \n",
       "2024-02-01           21165           16655  ...        0        0         0   \n",
       "2024-03-01           21955           21165  ...        0        0         0   \n",
       "\n",
       "            ano_2018  ano_2019  ano_2020  ano_2021  ano_2022  ano_2023  \\\n",
       "data                                                                     \n",
       "2018-09-01         1         0         0         0         0         0   \n",
       "2018-10-01         1         0         0         0         0         0   \n",
       "2018-11-01         1         0         0         0         0         0   \n",
       "2018-12-01         1         0         0         0         0         0   \n",
       "2019-01-01         0         1         0         0         0         0   \n",
       "...              ...       ...       ...       ...       ...       ...   \n",
       "2023-11-01         0         0         0         0         0         1   \n",
       "2023-12-01         0         0         0         0         0         1   \n",
       "2024-01-01         0         0         0         0         0         0   \n",
       "2024-02-01         0         0         0         0         0         0   \n",
       "2024-03-01         0         0         0         0         0         0   \n",
       "\n",
       "            ano_2024  \n",
       "data                  \n",
       "2018-09-01         0  \n",
       "2018-10-01         0  \n",
       "2018-11-01         0  \n",
       "2018-12-01         0  \n",
       "2019-01-01         0  \n",
       "...              ...  \n",
       "2023-11-01         0  \n",
       "2023-12-01         0  \n",
       "2024-01-01         1  \n",
       "2024-02-01         1  \n",
       "2024-03-01         1  \n",
       "\n",
       "[67 rows x 34 columns]"
      ],
      "text/html": [
       "<div>\n",
       "<style scoped>\n",
       "    .dataframe tbody tr th:only-of-type {\n",
       "        vertical-align: middle;\n",
       "    }\n",
       "\n",
       "    .dataframe tbody tr th {\n",
       "        vertical-align: top;\n",
       "    }\n",
       "\n",
       "    .dataframe thead th {\n",
       "        text-align: right;\n",
       "    }\n",
       "</style>\n",
       "<table border=\"1\" class=\"dataframe\">\n",
       "  <thead>\n",
       "    <tr style=\"text-align: right;\">\n",
       "      <th></th>\n",
       "      <th>leitura</th>\n",
       "      <th>consumo</th>\n",
       "      <th>consumo_LAG_01</th>\n",
       "      <th>consumo_LAG_02</th>\n",
       "      <th>consumo_LAG_03</th>\n",
       "      <th>consumo_LAG_04</th>\n",
       "      <th>consumo_LAG_05</th>\n",
       "      <th>consumo_LAG_06</th>\n",
       "      <th>consumo_LAG_07</th>\n",
       "      <th>consumo_LAG_08</th>\n",
       "      <th>...</th>\n",
       "      <th>mes_NOV</th>\n",
       "      <th>mes_DEZ</th>\n",
       "      <th>ano_2017</th>\n",
       "      <th>ano_2018</th>\n",
       "      <th>ano_2019</th>\n",
       "      <th>ano_2020</th>\n",
       "      <th>ano_2021</th>\n",
       "      <th>ano_2022</th>\n",
       "      <th>ano_2023</th>\n",
       "      <th>ano_2024</th>\n",
       "    </tr>\n",
       "    <tr>\n",
       "      <th>data</th>\n",
       "      <th></th>\n",
       "      <th></th>\n",
       "      <th></th>\n",
       "      <th></th>\n",
       "      <th></th>\n",
       "      <th></th>\n",
       "      <th></th>\n",
       "      <th></th>\n",
       "      <th></th>\n",
       "      <th></th>\n",
       "      <th></th>\n",
       "      <th></th>\n",
       "      <th></th>\n",
       "      <th></th>\n",
       "      <th></th>\n",
       "      <th></th>\n",
       "      <th></th>\n",
       "      <th></th>\n",
       "      <th></th>\n",
       "      <th></th>\n",
       "      <th></th>\n",
       "    </tr>\n",
       "  </thead>\n",
       "  <tbody>\n",
       "    <tr>\n",
       "      <th>2018-09-01</th>\n",
       "      <td>23/09/2018</td>\n",
       "      <td>21969</td>\n",
       "      <td>22575</td>\n",
       "      <td>17751</td>\n",
       "      <td>20841</td>\n",
       "      <td>21095</td>\n",
       "      <td>21052</td>\n",
       "      <td>18671</td>\n",
       "      <td>14487</td>\n",
       "      <td>10280</td>\n",
       "      <td>...</td>\n",
       "      <td>0</td>\n",
       "      <td>0</td>\n",
       "      <td>0</td>\n",
       "      <td>1</td>\n",
       "      <td>0</td>\n",
       "      <td>0</td>\n",
       "      <td>0</td>\n",
       "      <td>0</td>\n",
       "      <td>0</td>\n",
       "      <td>0</td>\n",
       "    </tr>\n",
       "    <tr>\n",
       "      <th>2018-10-01</th>\n",
       "      <td>23/10/2018</td>\n",
       "      <td>20174</td>\n",
       "      <td>21969</td>\n",
       "      <td>22575</td>\n",
       "      <td>17751</td>\n",
       "      <td>20841</td>\n",
       "      <td>21095</td>\n",
       "      <td>21052</td>\n",
       "      <td>18671</td>\n",
       "      <td>14487</td>\n",
       "      <td>...</td>\n",
       "      <td>0</td>\n",
       "      <td>0</td>\n",
       "      <td>0</td>\n",
       "      <td>1</td>\n",
       "      <td>0</td>\n",
       "      <td>0</td>\n",
       "      <td>0</td>\n",
       "      <td>0</td>\n",
       "      <td>0</td>\n",
       "      <td>0</td>\n",
       "    </tr>\n",
       "    <tr>\n",
       "      <th>2018-11-01</th>\n",
       "      <td>21/11/2018</td>\n",
       "      <td>19998</td>\n",
       "      <td>20174</td>\n",
       "      <td>21969</td>\n",
       "      <td>22575</td>\n",
       "      <td>17751</td>\n",
       "      <td>20841</td>\n",
       "      <td>21095</td>\n",
       "      <td>21052</td>\n",
       "      <td>18671</td>\n",
       "      <td>...</td>\n",
       "      <td>1</td>\n",
       "      <td>0</td>\n",
       "      <td>0</td>\n",
       "      <td>1</td>\n",
       "      <td>0</td>\n",
       "      <td>0</td>\n",
       "      <td>0</td>\n",
       "      <td>0</td>\n",
       "      <td>0</td>\n",
       "      <td>0</td>\n",
       "    </tr>\n",
       "    <tr>\n",
       "      <th>2018-12-01</th>\n",
       "      <td>21/12/2018</td>\n",
       "      <td>20426</td>\n",
       "      <td>19998</td>\n",
       "      <td>20174</td>\n",
       "      <td>21969</td>\n",
       "      <td>22575</td>\n",
       "      <td>17751</td>\n",
       "      <td>20841</td>\n",
       "      <td>21095</td>\n",
       "      <td>21052</td>\n",
       "      <td>...</td>\n",
       "      <td>0</td>\n",
       "      <td>1</td>\n",
       "      <td>0</td>\n",
       "      <td>1</td>\n",
       "      <td>0</td>\n",
       "      <td>0</td>\n",
       "      <td>0</td>\n",
       "      <td>0</td>\n",
       "      <td>0</td>\n",
       "      <td>0</td>\n",
       "    </tr>\n",
       "    <tr>\n",
       "      <th>2019-01-01</th>\n",
       "      <td>21/01/2019</td>\n",
       "      <td>10732</td>\n",
       "      <td>20426</td>\n",
       "      <td>19998</td>\n",
       "      <td>20174</td>\n",
       "      <td>21969</td>\n",
       "      <td>22575</td>\n",
       "      <td>17751</td>\n",
       "      <td>20841</td>\n",
       "      <td>21095</td>\n",
       "      <td>...</td>\n",
       "      <td>0</td>\n",
       "      <td>0</td>\n",
       "      <td>0</td>\n",
       "      <td>0</td>\n",
       "      <td>1</td>\n",
       "      <td>0</td>\n",
       "      <td>0</td>\n",
       "      <td>0</td>\n",
       "      <td>0</td>\n",
       "      <td>0</td>\n",
       "    </tr>\n",
       "    <tr>\n",
       "      <th>...</th>\n",
       "      <td>...</td>\n",
       "      <td>...</td>\n",
       "      <td>...</td>\n",
       "      <td>...</td>\n",
       "      <td>...</td>\n",
       "      <td>...</td>\n",
       "      <td>...</td>\n",
       "      <td>...</td>\n",
       "      <td>...</td>\n",
       "      <td>...</td>\n",
       "      <td>...</td>\n",
       "      <td>...</td>\n",
       "      <td>...</td>\n",
       "      <td>...</td>\n",
       "      <td>...</td>\n",
       "      <td>...</td>\n",
       "      <td>...</td>\n",
       "      <td>...</td>\n",
       "      <td>...</td>\n",
       "      <td>...</td>\n",
       "      <td>...</td>\n",
       "    </tr>\n",
       "    <tr>\n",
       "      <th>2023-11-01</th>\n",
       "      <td>30/11/2023</td>\n",
       "      <td>12207</td>\n",
       "      <td>11286</td>\n",
       "      <td>11897</td>\n",
       "      <td>21955</td>\n",
       "      <td>21165</td>\n",
       "      <td>16655</td>\n",
       "      <td>16964</td>\n",
       "      <td>14480</td>\n",
       "      <td>15342</td>\n",
       "      <td>...</td>\n",
       "      <td>1</td>\n",
       "      <td>0</td>\n",
       "      <td>0</td>\n",
       "      <td>0</td>\n",
       "      <td>0</td>\n",
       "      <td>0</td>\n",
       "      <td>0</td>\n",
       "      <td>0</td>\n",
       "      <td>1</td>\n",
       "      <td>0</td>\n",
       "    </tr>\n",
       "    <tr>\n",
       "      <th>2023-12-01</th>\n",
       "      <td>31/12/2023</td>\n",
       "      <td>9588</td>\n",
       "      <td>12207</td>\n",
       "      <td>11286</td>\n",
       "      <td>11897</td>\n",
       "      <td>21955</td>\n",
       "      <td>21165</td>\n",
       "      <td>16655</td>\n",
       "      <td>16964</td>\n",
       "      <td>14480</td>\n",
       "      <td>...</td>\n",
       "      <td>0</td>\n",
       "      <td>1</td>\n",
       "      <td>0</td>\n",
       "      <td>0</td>\n",
       "      <td>0</td>\n",
       "      <td>0</td>\n",
       "      <td>0</td>\n",
       "      <td>0</td>\n",
       "      <td>1</td>\n",
       "      <td>0</td>\n",
       "    </tr>\n",
       "    <tr>\n",
       "      <th>2024-01-01</th>\n",
       "      <td>31/01/2024</td>\n",
       "      <td>8226</td>\n",
       "      <td>9588</td>\n",
       "      <td>12207</td>\n",
       "      <td>11286</td>\n",
       "      <td>11897</td>\n",
       "      <td>21955</td>\n",
       "      <td>21165</td>\n",
       "      <td>16655</td>\n",
       "      <td>16964</td>\n",
       "      <td>...</td>\n",
       "      <td>0</td>\n",
       "      <td>0</td>\n",
       "      <td>0</td>\n",
       "      <td>0</td>\n",
       "      <td>0</td>\n",
       "      <td>0</td>\n",
       "      <td>0</td>\n",
       "      <td>0</td>\n",
       "      <td>0</td>\n",
       "      <td>1</td>\n",
       "    </tr>\n",
       "    <tr>\n",
       "      <th>2024-02-01</th>\n",
       "      <td>29/02/2024</td>\n",
       "      <td>16390</td>\n",
       "      <td>8226</td>\n",
       "      <td>9588</td>\n",
       "      <td>12207</td>\n",
       "      <td>11286</td>\n",
       "      <td>11897</td>\n",
       "      <td>21955</td>\n",
       "      <td>21165</td>\n",
       "      <td>16655</td>\n",
       "      <td>...</td>\n",
       "      <td>0</td>\n",
       "      <td>0</td>\n",
       "      <td>0</td>\n",
       "      <td>0</td>\n",
       "      <td>0</td>\n",
       "      <td>0</td>\n",
       "      <td>0</td>\n",
       "      <td>0</td>\n",
       "      <td>0</td>\n",
       "      <td>1</td>\n",
       "    </tr>\n",
       "    <tr>\n",
       "      <th>2024-03-01</th>\n",
       "      <td>31/03/2024</td>\n",
       "      <td>19182</td>\n",
       "      <td>16390</td>\n",
       "      <td>8226</td>\n",
       "      <td>9588</td>\n",
       "      <td>12207</td>\n",
       "      <td>11286</td>\n",
       "      <td>11897</td>\n",
       "      <td>21955</td>\n",
       "      <td>21165</td>\n",
       "      <td>...</td>\n",
       "      <td>0</td>\n",
       "      <td>0</td>\n",
       "      <td>0</td>\n",
       "      <td>0</td>\n",
       "      <td>0</td>\n",
       "      <td>0</td>\n",
       "      <td>0</td>\n",
       "      <td>0</td>\n",
       "      <td>0</td>\n",
       "      <td>1</td>\n",
       "    </tr>\n",
       "  </tbody>\n",
       "</table>\n",
       "<p>67 rows × 34 columns</p>\n",
       "</div>"
      ]
     },
     "execution_count": 12,
     "metadata": {},
     "output_type": "execute_result"
    }
   ],
   "execution_count": 12
  },
  {
   "cell_type": "markdown",
   "source": [],
   "metadata": {
    "collapsed": false
   },
   "id": "420d7768ec87dff0"
  },
  {
   "cell_type": "markdown",
   "source": [
    "# Análise de Correlações\n",
    "## Eletricidade\n",
    "### Correlação com os LAGS"
   ],
   "metadata": {
    "collapsed": false
   },
   "id": "e6fbbaaa4d4bf3e0"
  },
  {
   "cell_type": "code",
   "source": [
    "corr_matrix = df_electricity[df_electricity.to_pandas().filter(like=\"consumo\").columns].dropna().to_pandas().corr(\n",
    "    numeric_only=True)\n",
    "sns.heatmap(corr_matrix,\n",
    "            cmap=\"coolwarm\",\n",
    "            center=0,\n",
    "            annot=True,\n",
    "            fmt='.0g')"
   ],
   "metadata": {
    "collapsed": false
   },
   "id": "203cab94b7b5dc4a",
   "outputs": [],
   "execution_count": null
  },
  {
   "cell_type": "markdown",
   "source": [
    "### Correlação com as variáveis climáticas"
   ],
   "metadata": {
    "collapsed": false
   },
   "id": "da6d0ec86da92621"
  },
  {
   "cell_type": "code",
   "source": [
    "corr_matrix = df_electricity.drop(df_electricity.to_pandas().filter(like=\"_LAG_\").columns,\n",
    "                                  axis=1).drop(df_electricity.to_pandas().filter(like=\"mes_\").columns,\n",
    "                                               axis=1).drop(df_electricity.to_pandas().filter(like=\"ano_\").columns,\n",
    "                                                            axis=1).dropna().to_pandas().corr(numeric_only=True)\n",
    "sns.heatmap(corr_matrix,\n",
    "            cmap=\"coolwarm\",\n",
    "            center=0,\n",
    "            annot=True,\n",
    "            fmt='.1g')"
   ],
   "metadata": {
    "collapsed": false
   },
   "id": "a25983797d302706",
   "outputs": [],
   "execution_count": null
  },
  {
   "cell_type": "markdown",
   "source": [
    "## Água\n",
    "### Correlação com os LAGS"
   ],
   "metadata": {
    "collapsed": false
   },
   "id": "1d9483fd42957a34"
  },
  {
   "cell_type": "code",
   "source": [
    "corr_matrix = df_water[df_water.to_pandas().filter(like=\"consumo\").columns].dropna().to_pandas().corr(numeric_only=True)\n",
    "sns.heatmap(corr_matrix,\n",
    "            cmap=\"coolwarm\",\n",
    "            center=0,\n",
    "            annot=True,\n",
    "            fmt='.0g')"
   ],
   "metadata": {
    "collapsed": false
   },
   "id": "2527f240a158ae44",
   "outputs": [],
   "execution_count": null
  },
  {
   "cell_type": "markdown",
   "source": [
    "### Correlação com as variáveis climáticas"
   ],
   "metadata": {
    "collapsed": false
   },
   "id": "71dc952b4e1ab031"
  },
  {
   "cell_type": "code",
   "source": [
    "corr_matrix = df_water.drop(df_water.to_pandas().filter(like=\"_LAG_\").columns,\n",
    "                            axis=1).drop(df_water.to_pandas().filter(like=\"mes_\").columns,\n",
    "                                         axis=1).drop(df_water.to_pandas().filter(like=\"ano_\").columns,\n",
    "                                                      axis=1).dropna().to_pandas().corr(numeric_only=True)\n",
    "sns.heatmap(corr_matrix,\n",
    "            cmap=\"coolwarm\",\n",
    "            center=0,\n",
    "            annot=True,\n",
    "            fmt='.1g')"
   ],
   "metadata": {
    "collapsed": false
   },
   "id": "50dd3403096d927d",
   "outputs": [],
   "execution_count": null
  },
  {
   "cell_type": "markdown",
   "source": [
    "## Correlação entre o Consumo de Eletricidade e de Água\n"
   ],
   "metadata": {
    "collapsed": false
   },
   "id": "f8bd7ba5135da593"
  },
  {
   "cell_type": "code",
   "source": [
    "corr_matrix = pd.merge(left=df_electricity[\"consumo\"], right=df_water[\"consumo\"],\n",
    "                       on=[\"data\"], how=\"inner\",\n",
    "                       suffixes=[' electricity', ' water']).dropna().to_pandas().corr(numeric_only=True)\n",
    "sns.heatmap(corr_matrix,\n",
    "            cmap=\"coolwarm\",\n",
    "            center=0,\n",
    "            annot=True,\n",
    "            fmt='.1g')"
   ],
   "metadata": {
    "collapsed": false
   },
   "id": "fc8cc19647b81a53",
   "outputs": [],
   "execution_count": null
  },
  {
   "cell_type": "markdown",
   "source": [
    "# Análise dos SHAP Values\n",
    "## Eletricidade\n",
    "### Random Forest"
   ],
   "metadata": {
    "collapsed": false
   },
   "id": "b63848b390147d73"
  },
  {
   "cell_type": "code",
   "source": [
    "df_electricity_copy = df_electricity.dropna().copy().to_pandas()\n",
    "\n",
    "x_electricity = df_electricity_copy.drop(\"consumo\", axis=1)\n",
    "y_electricity = df_electricity_copy[\"consumo\"]\n",
    "model_rf = RandomForestRegressor()\n",
    "shap.initjs()\n",
    "\n",
    "model_rf.fit(x_electricity, y_electricity)\n",
    "\n",
    "explainer_rf = shap.Explainer(model_rf)\n",
    "shap_rf = explainer_rf(x_electricity)\n",
    "\n",
    "shap.plots.waterfall(shap_rf[0], max_display=10)\n",
    "shap.plots.force(shap_rf[0])\n",
    "shap.plots.bar(shap_rf)\n"
   ],
   "metadata": {
    "collapsed": false
   },
   "id": "3dc260de37d498c3",
   "outputs": [],
   "execution_count": null
  },
  {
   "cell_type": "markdown",
   "source": [
    "### XGBoost"
   ],
   "metadata": {
    "collapsed": false
   },
   "id": "314ed5331c39c10"
  },
  {
   "cell_type": "code",
   "source": [
    "df_electricity_copy = df_electricity.dropna().copy().to_pandas()\n",
    "\n",
    "x_electricity = df_electricity_copy.drop(\"consumo\", axis=1)\n",
    "y_electricity = df_electricity_copy[\"consumo\"]\n",
    "\n",
    "model_xgb = XGBRegressor(objective='reg:squarederror')\n",
    "shap.initjs()\n",
    "\n",
    "model_xgb.fit(x_electricity, y_electricity)\n",
    "\n",
    "explainer_xgb = shap.Explainer(model_xgb)\n",
    "shap_xgb = explainer_xgb(x_electricity)\n",
    "\n",
    "shap.plots.waterfall(shap_xgb[0], max_display=10)\n",
    "shap.plots.force(shap_xgb[0])\n",
    "shap.plots.bar(shap_xgb)"
   ],
   "metadata": {
    "collapsed": false
   },
   "id": "25f04550785acb2d",
   "outputs": [],
   "execution_count": null
  },
  {
   "cell_type": "markdown",
   "source": [
    "## Água\n",
    "### Random Forest"
   ],
   "metadata": {
    "collapsed": false
   },
   "id": "e4d8dad58c4f3a0a"
  },
  {
   "cell_type": "code",
   "source": [
    "df_water_copy = df_water.dropna().copy().to_pandas()\n",
    "\n",
    "x_water = df_water_copy.drop(\"consumo\", axis=1)\n",
    "y_water = df_water_copy[\"consumo\"]\n",
    "model_rf = RandomForestRegressor()\n",
    "shap.initjs()\n",
    "\n",
    "model_rf.fit(x_water, y_water)\n",
    "\n",
    "explainer_rf = shap.Explainer(model_rf)\n",
    "shap_rf = explainer_rf(x_water)\n",
    "\n",
    "shap.plots.waterfall(shap_rf[0], max_display=10)\n",
    "shap.plots.force(shap_rf[0])\n",
    "shap.plots.bar(shap_rf)\n"
   ],
   "metadata": {
    "collapsed": false
   },
   "id": "e3a887cd8e14ee58",
   "outputs": [],
   "execution_count": null
  },
  {
   "cell_type": "markdown",
   "source": [
    "### XGBoost"
   ],
   "metadata": {
    "collapsed": false
   },
   "id": "355813e190d32d81"
  },
  {
   "cell_type": "code",
   "source": [
    "df_water_copy = df_water.dropna().copy().to_pandas()\n",
    "\n",
    "x_water = df_water_copy.drop(\"consumo\", axis=1)\n",
    "y_water = df_water_copy[\"consumo\"]\n",
    "\n",
    "model_xgb = XGBRegressor(objective='reg:squarederror')\n",
    "shap.initjs()\n",
    "\n",
    "model_xgb.fit(x_water, y_water)\n",
    "\n",
    "explainer_xgb = shap.Explainer(model_xgb)\n",
    "shap_xgb = explainer_xgb(x_water)\n",
    "\n",
    "shap.plots.waterfall(shap_xgb[0], max_display=10)\n",
    "shap.plots.force(shap_xgb[0])\n",
    "shap.plots.bar(shap_xgb)"
   ],
   "metadata": {
    "collapsed": false
   },
   "id": "9cb289a4dcf1c603",
   "outputs": [],
   "execution_count": null
  },
  {
   "cell_type": "markdown",
   "source": [
    "# Configuração dos Otimizadores\n",
    "## Algoritmo Genético\n",
    "### Indivíduos"
   ],
   "metadata": {
    "collapsed": false
   },
   "id": "8a20cb439079a737"
  },
  {
   "cell_type": "code",
   "source": [
    "        \n",
    "\n",
    "\n",
    "       \n",
    "\n",
    "    \n",
    "    "
   ],
   "metadata": {
    "collapsed": false
   },
   "id": "66c830f88912d062",
   "outputs": [],
   "execution_count": null
  },
  {
   "cell_type": "markdown",
   "source": [
    "### Operações"
   ],
   "metadata": {
    "collapsed": false
   },
   "id": "3a77d8f401e9367b"
  },
  {
   "cell_type": "code",
   "source": [
    "class GA:\n",
    "    def __init__(self, dataset, n_individuos, n_populacao, crossover, mutacao):\n",
    "        self.dataset = dataset\n",
    "        self.n_individuos = n_individuos\n",
    "        self.n_populacao = n_populacao\n",
    "        self.crossover = crossover\n",
    "        self.mutacao = mutacao\n",
    "        self.populacao = []"
   ],
   "metadata": {
    "collapsed": false
   },
   "id": "75eecff7358788e",
   "outputs": [],
   "execution_count": null
  },
  {
   "cell_type": "markdown",
   "source": [
    "## Enxame de Partículas"
   ],
   "metadata": {
    "collapsed": false
   },
   "id": "921a2196f8f7a5a6"
  },
  {
   "cell_type": "code",
   "source": [],
   "metadata": {
    "collapsed": false
   },
   "id": "c4c6224298ba6589",
   "outputs": [],
   "execution_count": null
  },
  {
   "cell_type": "markdown",
   "source": [
    "# Aplicação dos Otimizadores\n",
    "## Random Forest\n",
    "### Eletricidade"
   ],
   "metadata": {
    "collapsed": false
   },
   "id": "1fff4de69f44d41d"
  },
  {
   "cell_type": "code",
   "source": [],
   "metadata": {
    "collapsed": false
   },
   "id": "236caf6730ed692a",
   "outputs": [],
   "execution_count": null
  },
  {
   "cell_type": "markdown",
   "source": [
    "### Água"
   ],
   "metadata": {
    "collapsed": false
   },
   "id": "fc937ec3c78bc4c1"
  },
  {
   "cell_type": "code",
   "source": [],
   "metadata": {
    "collapsed": false
   },
   "id": "e5ec6ca3b4604bee",
   "outputs": [],
   "execution_count": null
  },
  {
   "cell_type": "markdown",
   "source": [
    "## XGBoost\n",
    "### Eletricidade"
   ],
   "metadata": {
    "collapsed": false
   },
   "id": "e74855edc797a8e6"
  },
  {
   "cell_type": "code",
   "source": [],
   "metadata": {
    "collapsed": false
   },
   "id": "fc270813a7c3a24c",
   "outputs": [],
   "execution_count": null
  },
  {
   "cell_type": "markdown",
   "source": [
    "### Água"
   ],
   "metadata": {
    "collapsed": false
   },
   "id": "66c5108781953126"
  },
  {
   "cell_type": "code",
   "source": [],
   "metadata": {
    "collapsed": false
   },
   "id": "4600cff3602b1450",
   "outputs": [],
   "execution_count": null
  },
  {
   "cell_type": "markdown",
   "source": [
    "## SVR\n",
    "### Eletricidade"
   ],
   "metadata": {
    "collapsed": false
   },
   "id": "27bdb2e123c383c1"
  },
  {
   "cell_type": "code",
   "source": [],
   "metadata": {
    "collapsed": false
   },
   "id": "84d7a6c888949595",
   "outputs": [],
   "execution_count": null
  },
  {
   "cell_type": "markdown",
   "source": [
    "### Água"
   ],
   "metadata": {
    "collapsed": false
   },
   "id": "6b22084680bbdfd0"
  },
  {
   "cell_type": "code",
   "source": [],
   "metadata": {
    "collapsed": false
   },
   "id": "a5ccd835cf107b86",
   "outputs": [],
   "execution_count": null
  },
  {
   "cell_type": "markdown",
   "source": [
    "## LSTM\n",
    "### Eletricidade"
   ],
   "metadata": {
    "collapsed": false
   },
   "id": "6e8ddf2c403efbc8"
  },
  {
   "cell_type": "code",
   "source": [],
   "metadata": {
    "collapsed": false
   },
   "id": "129ca77e5926db8a",
   "outputs": [],
   "execution_count": null
  },
  {
   "cell_type": "markdown",
   "source": [
    "### Água"
   ],
   "metadata": {
    "collapsed": false
   },
   "id": "51d4ba73afbb49ed"
  },
  {
   "cell_type": "code",
   "source": [],
   "metadata": {
    "collapsed": false
   },
   "id": "3a87f082bb4abbd5",
   "outputs": [],
   "execution_count": null
  },
  {
   "cell_type": "markdown",
   "source": [
    "## XGBoost\n",
    "### Eletricidade"
   ],
   "metadata": {
    "collapsed": false
   },
   "id": "343de022a985230"
  },
  {
   "cell_type": "code",
   "source": [],
   "metadata": {
    "collapsed": false
   },
   "id": "e3e7417570c475a8",
   "outputs": [],
   "execution_count": null
  },
  {
   "cell_type": "markdown",
   "source": [
    "### Água"
   ],
   "metadata": {
    "collapsed": false
   },
   "id": "f74c2bd2cb478bf3"
  },
  {
   "cell_type": "code",
   "source": [],
   "metadata": {
    "collapsed": false
   },
   "id": "b246dc3cfe1cff4d",
   "outputs": [],
   "execution_count": null
  },
  {
   "cell_type": "markdown",
   "source": [
    "# Previsões\n",
    "## Eletricidade\n",
    "### 3 Passos à frente"
   ],
   "metadata": {
    "collapsed": false
   },
   "id": "29405b274310a71b"
  },
  {
   "cell_type": "code",
   "source": [
    "reset_seed()\n",
    "x_electricity = df_electricity.drop(\"consumo\", axis=1)\n",
    "y_electricity = df_electricity[\"consumo\"]\n",
    "\n",
    "xgb_electricity = XGBRegressor()\n",
    "rf_electricity = CuRF(n_streams=1, n_bins=x_electricity.shape[1])\n",
    "svr_electricity = SVR()\n",
    "lstm_electricity = Sequential([\n",
    "    Input((x_electricity.shape[1], 1), batch_size=x_electricity.shape[1]),\n",
    "    LSTM(30, activation='relu', seed=SEED),\n",
    "    Dense(1),\n",
    "])\n",
    "lstm_electricity.compile(loss='mse', metrics=['mean_absolute_error'])\n",
    "\n",
    "x_train, x_test, y_train, y_test = train_test_split(x_electricity, y_electricity, test_size=3, shuffle=False)\n",
    "\n",
    "cvs_electricity = pd.DataFrame()\n",
    "for i_train, i_test in TimeSeriesSplit(n_splits=12, test_size=1).split(x_train, y_train):\n",
    "    kx_train, kx_test = x_train.iloc[i_train].to_numpy(), x_train.iloc[i_test].to_numpy()\n",
    "    ky_train, ky_test = y_train.iloc[i_train].to_numpy(), y_train.iloc[i_test].to_numpy()\n",
    "\n",
    "    xgb_electricity.fit(kx_train, ky_train)\n",
    "    rf_electricity.fit(kx_train, ky_train)\n",
    "    svr_electricity.fit(kx_train, ky_train)\n",
    "    lstm_electricity.fit(kx_train, ky_train, shuffle=False, verbose=False, epochs=50, batch_size=x_electricity.shape[1])\n",
    "\n",
    "    cvs_electricity.append({\n",
    "        \"XGB\": mean_absolute_percentage_error(xgb_electricity.predict(kx_test), ky_test),\n",
    "        \"RF\": mean_absolute_percentage_error(rf_electricity.predict(kx_test), ky_test),\n",
    "        \"SVR\": mean_absolute_percentage_error(svr_electricity.predict(kx_test), ky_test),\n",
    "        \"LSTM\": mean_absolute_percentage_error(lstm_electricity.predict(kx_test), ky_test)\n",
    "    })\n",
    "\n",
    "cvs_electricity\n"
   ],
   "metadata": {
    "collapsed": false,
    "ExecuteTime": {
     "end_time": "2024-06-09T03:10:13.418823Z",
     "start_time": "2024-06-09T03:10:12.812757Z"
    }
   },
   "id": "affa8389121b3b03",
   "outputs": [
    {
     "ename": "TypeError",
     "evalue": "String Arrays is not yet implemented in cudf",
     "output_type": "error",
     "traceback": [
      "\u001B[0;31m---------------------------------------------------------------------------\u001B[0m",
      "\u001B[0;31mKeyError\u001B[0m                                  Traceback (most recent call last)",
      "File \u001B[0;32m~/.conda/envs/rapids-24.06/lib/python3.11/site-packages/cudf/utils/utils.py:227\u001B[0m, in \u001B[0;36mGetAttrGetItemMixin.__getattr__\u001B[0;34m(self, key)\u001B[0m\n\u001B[1;32m    226\u001B[0m \u001B[38;5;28;01mtry\u001B[39;00m:\n\u001B[0;32m--> 227\u001B[0m     \u001B[38;5;28;01mreturn\u001B[39;00m \u001B[38;5;28;43mself\u001B[39;49m\u001B[43m[\u001B[49m\u001B[43mkey\u001B[49m\u001B[43m]\u001B[49m\n\u001B[1;32m    228\u001B[0m \u001B[38;5;28;01mexcept\u001B[39;00m \u001B[38;5;167;01mKeyError\u001B[39;00m:\n",
      "File \u001B[0;32m~/.conda/envs/rapids-24.06/lib/python3.11/site-packages/nvtx/nvtx.py:116\u001B[0m, in \u001B[0;36mannotate.__call__.<locals>.inner\u001B[0;34m(*args, **kwargs)\u001B[0m\n\u001B[1;32m    115\u001B[0m libnvtx_push_range(\u001B[38;5;28mself\u001B[39m\u001B[38;5;241m.\u001B[39mattributes, \u001B[38;5;28mself\u001B[39m\u001B[38;5;241m.\u001B[39mdomain\u001B[38;5;241m.\u001B[39mhandle)\n\u001B[0;32m--> 116\u001B[0m result \u001B[38;5;241m=\u001B[39m \u001B[43mfunc\u001B[49m\u001B[43m(\u001B[49m\u001B[38;5;241;43m*\u001B[39;49m\u001B[43margs\u001B[49m\u001B[43m,\u001B[49m\u001B[43m \u001B[49m\u001B[38;5;241;43m*\u001B[39;49m\u001B[38;5;241;43m*\u001B[39;49m\u001B[43mkwargs\u001B[49m\u001B[43m)\u001B[49m\n\u001B[1;32m    117\u001B[0m libnvtx_pop_range(\u001B[38;5;28mself\u001B[39m\u001B[38;5;241m.\u001B[39mdomain\u001B[38;5;241m.\u001B[39mhandle)\n",
      "File \u001B[0;32m~/.conda/envs/rapids-24.06/lib/python3.11/site-packages/cudf/core/dataframe.py:1348\u001B[0m, in \u001B[0;36mDataFrame.__getitem__\u001B[0;34m(self, arg)\u001B[0m\n\u001B[1;32m   1347\u001B[0m \u001B[38;5;28;01mif\u001B[39;00m _is_scalar_or_zero_d_array(arg) \u001B[38;5;129;01mor\u001B[39;00m \u001B[38;5;28misinstance\u001B[39m(arg, \u001B[38;5;28mtuple\u001B[39m):\n\u001B[0;32m-> 1348\u001B[0m     \u001B[38;5;28;01mreturn\u001B[39;00m \u001B[38;5;28;43mself\u001B[39;49m\u001B[38;5;241;43m.\u001B[39;49m\u001B[43m_get_columns_by_label\u001B[49m\u001B[43m(\u001B[49m\u001B[43marg\u001B[49m\u001B[43m,\u001B[49m\u001B[43m \u001B[49m\u001B[43mdowncast\u001B[49m\u001B[38;5;241;43m=\u001B[39;49m\u001B[38;5;28;43;01mTrue\u001B[39;49;00m\u001B[43m)\u001B[49m\n\u001B[1;32m   1350\u001B[0m \u001B[38;5;28;01melif\u001B[39;00m \u001B[38;5;28misinstance\u001B[39m(arg, \u001B[38;5;28mslice\u001B[39m):\n",
      "File \u001B[0;32m~/.conda/envs/rapids-24.06/lib/python3.11/site-packages/nvtx/nvtx.py:116\u001B[0m, in \u001B[0;36mannotate.__call__.<locals>.inner\u001B[0;34m(*args, **kwargs)\u001B[0m\n\u001B[1;32m    115\u001B[0m libnvtx_push_range(\u001B[38;5;28mself\u001B[39m\u001B[38;5;241m.\u001B[39mattributes, \u001B[38;5;28mself\u001B[39m\u001B[38;5;241m.\u001B[39mdomain\u001B[38;5;241m.\u001B[39mhandle)\n\u001B[0;32m--> 116\u001B[0m result \u001B[38;5;241m=\u001B[39m \u001B[43mfunc\u001B[49m\u001B[43m(\u001B[49m\u001B[38;5;241;43m*\u001B[39;49m\u001B[43margs\u001B[49m\u001B[43m,\u001B[49m\u001B[43m \u001B[49m\u001B[38;5;241;43m*\u001B[39;49m\u001B[38;5;241;43m*\u001B[39;49m\u001B[43mkwargs\u001B[49m\u001B[43m)\u001B[49m\n\u001B[1;32m    117\u001B[0m libnvtx_pop_range(\u001B[38;5;28mself\u001B[39m\u001B[38;5;241m.\u001B[39mdomain\u001B[38;5;241m.\u001B[39mhandle)\n",
      "File \u001B[0;32m~/.conda/envs/rapids-24.06/lib/python3.11/site-packages/cudf/core/dataframe.py:2005\u001B[0m, in \u001B[0;36mDataFrame._get_columns_by_label\u001B[0;34m(self, labels, downcast)\u001B[0m\n\u001B[1;32m   2000\u001B[0m \u001B[38;5;250m\u001B[39m\u001B[38;5;124;03m\"\"\"\u001B[39;00m\n\u001B[1;32m   2001\u001B[0m \u001B[38;5;124;03mReturn columns of dataframe by `labels`\u001B[39;00m\n\u001B[1;32m   2002\u001B[0m \n\u001B[1;32m   2003\u001B[0m \u001B[38;5;124;03mIf downcast is True, try and downcast from a DataFrame to a Series\u001B[39;00m\n\u001B[1;32m   2004\u001B[0m \u001B[38;5;124;03m\"\"\"\u001B[39;00m\n\u001B[0;32m-> 2005\u001B[0m ca \u001B[38;5;241m=\u001B[39m \u001B[38;5;28;43mself\u001B[39;49m\u001B[38;5;241;43m.\u001B[39;49m\u001B[43m_data\u001B[49m\u001B[38;5;241;43m.\u001B[39;49m\u001B[43mselect_by_label\u001B[49m\u001B[43m(\u001B[49m\u001B[43mlabels\u001B[49m\u001B[43m)\u001B[49m\n\u001B[1;32m   2006\u001B[0m \u001B[38;5;28;01mif\u001B[39;00m downcast:\n",
      "File \u001B[0;32m~/.conda/envs/rapids-24.06/lib/python3.11/site-packages/cudf/core/column_accessor.py:399\u001B[0m, in \u001B[0;36mColumnAccessor.select_by_label\u001B[0;34m(self, key)\u001B[0m\n\u001B[1;32m    398\u001B[0m         \u001B[38;5;28;01mreturn\u001B[39;00m \u001B[38;5;28mself\u001B[39m\u001B[38;5;241m.\u001B[39m_select_by_label_with_wildcard(key)\n\u001B[0;32m--> 399\u001B[0m \u001B[38;5;28;01mreturn\u001B[39;00m \u001B[38;5;28;43mself\u001B[39;49m\u001B[38;5;241;43m.\u001B[39;49m\u001B[43m_select_by_label_grouped\u001B[49m\u001B[43m(\u001B[49m\u001B[43mkey\u001B[49m\u001B[43m)\u001B[49m\n",
      "File \u001B[0;32m~/.conda/envs/rapids-24.06/lib/python3.11/site-packages/cudf/core/column_accessor.py:546\u001B[0m, in \u001B[0;36mColumnAccessor._select_by_label_grouped\u001B[0;34m(self, key)\u001B[0m\n\u001B[1;32m    545\u001B[0m \u001B[38;5;28;01mdef\u001B[39;00m \u001B[38;5;21m_select_by_label_grouped\u001B[39m(\u001B[38;5;28mself\u001B[39m, key: Any) \u001B[38;5;241m-\u001B[39m\u001B[38;5;241m>\u001B[39m ColumnAccessor:\n\u001B[0;32m--> 546\u001B[0m     result \u001B[38;5;241m=\u001B[39m \u001B[38;5;28;43mself\u001B[39;49m\u001B[38;5;241;43m.\u001B[39;49m\u001B[43m_grouped_data\u001B[49m\u001B[43m[\u001B[49m\u001B[43mkey\u001B[49m\u001B[43m]\u001B[49m\n\u001B[1;32m    547\u001B[0m     \u001B[38;5;28;01mif\u001B[39;00m \u001B[38;5;28misinstance\u001B[39m(result, column\u001B[38;5;241m.\u001B[39mColumnBase):\n\u001B[1;32m    548\u001B[0m         \u001B[38;5;66;03m# self._grouped_data[key] = self._data[key] so skip validation\u001B[39;00m\n",
      "\u001B[0;31mKeyError\u001B[0m: '__cuda_array_interface__'",
      "\nDuring handling of the above exception, another exception occurred:\n",
      "\u001B[0;31mAttributeError\u001B[0m                            Traceback (most recent call last)",
      "File \u001B[0;32m~/.conda/envs/rapids-24.06/lib/python3.11/site-packages/cuml/internals/array.py:1249\u001B[0m, in \u001B[0;36marray_to_memory_order\u001B[0;34m(arr, default)\u001B[0m\n\u001B[1;32m   1248\u001B[0m \u001B[38;5;28;01mtry\u001B[39;00m:\n\u001B[0;32m-> 1249\u001B[0m     array_interface \u001B[38;5;241m=\u001B[39m \u001B[43marr\u001B[49m\u001B[38;5;241;43m.\u001B[39;49m\u001B[43m__cuda_array_interface__\u001B[49m\n\u001B[1;32m   1250\u001B[0m \u001B[38;5;28;01mexcept\u001B[39;00m \u001B[38;5;167;01mAttributeError\u001B[39;00m:\n",
      "File \u001B[0;32m~/.conda/envs/rapids-24.06/lib/python3.11/site-packages/cudf/utils/utils.py:229\u001B[0m, in \u001B[0;36mGetAttrGetItemMixin.__getattr__\u001B[0;34m(self, key)\u001B[0m\n\u001B[1;32m    228\u001B[0m \u001B[38;5;28;01mexcept\u001B[39;00m \u001B[38;5;167;01mKeyError\u001B[39;00m:\n\u001B[0;32m--> 229\u001B[0m     \u001B[38;5;28;01mraise\u001B[39;00m \u001B[38;5;167;01mAttributeError\u001B[39;00m(\n\u001B[1;32m    230\u001B[0m         \u001B[38;5;124mf\u001B[39m\u001B[38;5;124m\"\u001B[39m\u001B[38;5;132;01m{\u001B[39;00m\u001B[38;5;28mtype\u001B[39m(\u001B[38;5;28mself\u001B[39m)\u001B[38;5;241m.\u001B[39m\u001B[38;5;18m__name__\u001B[39m\u001B[38;5;132;01m}\u001B[39;00m\u001B[38;5;124m object has no attribute \u001B[39m\u001B[38;5;132;01m{\u001B[39;00mkey\u001B[38;5;132;01m}\u001B[39;00m\u001B[38;5;124m\"\u001B[39m\n\u001B[1;32m    231\u001B[0m     )\n",
      "\u001B[0;31mAttributeError\u001B[0m: DataFrame object has no attribute __cuda_array_interface__",
      "\nDuring handling of the above exception, another exception occurred:\n",
      "\u001B[0;31mKeyError\u001B[0m                                  Traceback (most recent call last)",
      "File \u001B[0;32m~/.conda/envs/rapids-24.06/lib/python3.11/site-packages/cudf/utils/utils.py:227\u001B[0m, in \u001B[0;36mGetAttrGetItemMixin.__getattr__\u001B[0;34m(self, key)\u001B[0m\n\u001B[1;32m    226\u001B[0m \u001B[38;5;28;01mtry\u001B[39;00m:\n\u001B[0;32m--> 227\u001B[0m     \u001B[38;5;28;01mreturn\u001B[39;00m \u001B[38;5;28;43mself\u001B[39;49m\u001B[43m[\u001B[49m\u001B[43mkey\u001B[49m\u001B[43m]\u001B[49m\n\u001B[1;32m    228\u001B[0m \u001B[38;5;28;01mexcept\u001B[39;00m \u001B[38;5;167;01mKeyError\u001B[39;00m:\n",
      "File \u001B[0;32m~/.conda/envs/rapids-24.06/lib/python3.11/site-packages/nvtx/nvtx.py:116\u001B[0m, in \u001B[0;36mannotate.__call__.<locals>.inner\u001B[0;34m(*args, **kwargs)\u001B[0m\n\u001B[1;32m    115\u001B[0m libnvtx_push_range(\u001B[38;5;28mself\u001B[39m\u001B[38;5;241m.\u001B[39mattributes, \u001B[38;5;28mself\u001B[39m\u001B[38;5;241m.\u001B[39mdomain\u001B[38;5;241m.\u001B[39mhandle)\n\u001B[0;32m--> 116\u001B[0m result \u001B[38;5;241m=\u001B[39m \u001B[43mfunc\u001B[49m\u001B[43m(\u001B[49m\u001B[38;5;241;43m*\u001B[39;49m\u001B[43margs\u001B[49m\u001B[43m,\u001B[49m\u001B[43m \u001B[49m\u001B[38;5;241;43m*\u001B[39;49m\u001B[38;5;241;43m*\u001B[39;49m\u001B[43mkwargs\u001B[49m\u001B[43m)\u001B[49m\n\u001B[1;32m    117\u001B[0m libnvtx_pop_range(\u001B[38;5;28mself\u001B[39m\u001B[38;5;241m.\u001B[39mdomain\u001B[38;5;241m.\u001B[39mhandle)\n",
      "File \u001B[0;32m~/.conda/envs/rapids-24.06/lib/python3.11/site-packages/cudf/core/dataframe.py:1348\u001B[0m, in \u001B[0;36mDataFrame.__getitem__\u001B[0;34m(self, arg)\u001B[0m\n\u001B[1;32m   1347\u001B[0m \u001B[38;5;28;01mif\u001B[39;00m _is_scalar_or_zero_d_array(arg) \u001B[38;5;129;01mor\u001B[39;00m \u001B[38;5;28misinstance\u001B[39m(arg, \u001B[38;5;28mtuple\u001B[39m):\n\u001B[0;32m-> 1348\u001B[0m     \u001B[38;5;28;01mreturn\u001B[39;00m \u001B[38;5;28;43mself\u001B[39;49m\u001B[38;5;241;43m.\u001B[39;49m\u001B[43m_get_columns_by_label\u001B[49m\u001B[43m(\u001B[49m\u001B[43marg\u001B[49m\u001B[43m,\u001B[49m\u001B[43m \u001B[49m\u001B[43mdowncast\u001B[49m\u001B[38;5;241;43m=\u001B[39;49m\u001B[38;5;28;43;01mTrue\u001B[39;49;00m\u001B[43m)\u001B[49m\n\u001B[1;32m   1350\u001B[0m \u001B[38;5;28;01melif\u001B[39;00m \u001B[38;5;28misinstance\u001B[39m(arg, \u001B[38;5;28mslice\u001B[39m):\n",
      "File \u001B[0;32m~/.conda/envs/rapids-24.06/lib/python3.11/site-packages/nvtx/nvtx.py:116\u001B[0m, in \u001B[0;36mannotate.__call__.<locals>.inner\u001B[0;34m(*args, **kwargs)\u001B[0m\n\u001B[1;32m    115\u001B[0m libnvtx_push_range(\u001B[38;5;28mself\u001B[39m\u001B[38;5;241m.\u001B[39mattributes, \u001B[38;5;28mself\u001B[39m\u001B[38;5;241m.\u001B[39mdomain\u001B[38;5;241m.\u001B[39mhandle)\n\u001B[0;32m--> 116\u001B[0m result \u001B[38;5;241m=\u001B[39m \u001B[43mfunc\u001B[49m\u001B[43m(\u001B[49m\u001B[38;5;241;43m*\u001B[39;49m\u001B[43margs\u001B[49m\u001B[43m,\u001B[49m\u001B[43m \u001B[49m\u001B[38;5;241;43m*\u001B[39;49m\u001B[38;5;241;43m*\u001B[39;49m\u001B[43mkwargs\u001B[49m\u001B[43m)\u001B[49m\n\u001B[1;32m    117\u001B[0m libnvtx_pop_range(\u001B[38;5;28mself\u001B[39m\u001B[38;5;241m.\u001B[39mdomain\u001B[38;5;241m.\u001B[39mhandle)\n",
      "File \u001B[0;32m~/.conda/envs/rapids-24.06/lib/python3.11/site-packages/cudf/core/dataframe.py:2005\u001B[0m, in \u001B[0;36mDataFrame._get_columns_by_label\u001B[0;34m(self, labels, downcast)\u001B[0m\n\u001B[1;32m   2000\u001B[0m \u001B[38;5;250m\u001B[39m\u001B[38;5;124;03m\"\"\"\u001B[39;00m\n\u001B[1;32m   2001\u001B[0m \u001B[38;5;124;03mReturn columns of dataframe by `labels`\u001B[39;00m\n\u001B[1;32m   2002\u001B[0m \n\u001B[1;32m   2003\u001B[0m \u001B[38;5;124;03mIf downcast is True, try and downcast from a DataFrame to a Series\u001B[39;00m\n\u001B[1;32m   2004\u001B[0m \u001B[38;5;124;03m\"\"\"\u001B[39;00m\n\u001B[0;32m-> 2005\u001B[0m ca \u001B[38;5;241m=\u001B[39m \u001B[38;5;28;43mself\u001B[39;49m\u001B[38;5;241;43m.\u001B[39;49m\u001B[43m_data\u001B[49m\u001B[38;5;241;43m.\u001B[39;49m\u001B[43mselect_by_label\u001B[49m\u001B[43m(\u001B[49m\u001B[43mlabels\u001B[49m\u001B[43m)\u001B[49m\n\u001B[1;32m   2006\u001B[0m \u001B[38;5;28;01mif\u001B[39;00m downcast:\n",
      "File \u001B[0;32m~/.conda/envs/rapids-24.06/lib/python3.11/site-packages/cudf/core/column_accessor.py:399\u001B[0m, in \u001B[0;36mColumnAccessor.select_by_label\u001B[0;34m(self, key)\u001B[0m\n\u001B[1;32m    398\u001B[0m         \u001B[38;5;28;01mreturn\u001B[39;00m \u001B[38;5;28mself\u001B[39m\u001B[38;5;241m.\u001B[39m_select_by_label_with_wildcard(key)\n\u001B[0;32m--> 399\u001B[0m \u001B[38;5;28;01mreturn\u001B[39;00m \u001B[38;5;28;43mself\u001B[39;49m\u001B[38;5;241;43m.\u001B[39;49m\u001B[43m_select_by_label_grouped\u001B[49m\u001B[43m(\u001B[49m\u001B[43mkey\u001B[49m\u001B[43m)\u001B[49m\n",
      "File \u001B[0;32m~/.conda/envs/rapids-24.06/lib/python3.11/site-packages/cudf/core/column_accessor.py:546\u001B[0m, in \u001B[0;36mColumnAccessor._select_by_label_grouped\u001B[0;34m(self, key)\u001B[0m\n\u001B[1;32m    545\u001B[0m \u001B[38;5;28;01mdef\u001B[39;00m \u001B[38;5;21m_select_by_label_grouped\u001B[39m(\u001B[38;5;28mself\u001B[39m, key: Any) \u001B[38;5;241m-\u001B[39m\u001B[38;5;241m>\u001B[39m ColumnAccessor:\n\u001B[0;32m--> 546\u001B[0m     result \u001B[38;5;241m=\u001B[39m \u001B[38;5;28;43mself\u001B[39;49m\u001B[38;5;241;43m.\u001B[39;49m\u001B[43m_grouped_data\u001B[49m\u001B[43m[\u001B[49m\u001B[43mkey\u001B[49m\u001B[43m]\u001B[49m\n\u001B[1;32m    547\u001B[0m     \u001B[38;5;28;01mif\u001B[39;00m \u001B[38;5;28misinstance\u001B[39m(result, column\u001B[38;5;241m.\u001B[39mColumnBase):\n\u001B[1;32m    548\u001B[0m         \u001B[38;5;66;03m# self._grouped_data[key] = self._data[key] so skip validation\u001B[39;00m\n",
      "\u001B[0;31mKeyError\u001B[0m: '__array_interface__'",
      "\nDuring handling of the above exception, another exception occurred:\n",
      "\u001B[0;31mAttributeError\u001B[0m                            Traceback (most recent call last)",
      "File \u001B[0;32m~/.conda/envs/rapids-24.06/lib/python3.11/site-packages/cuml/internals/array.py:1252\u001B[0m, in \u001B[0;36marray_to_memory_order\u001B[0;34m(arr, default)\u001B[0m\n\u001B[1;32m   1251\u001B[0m \u001B[38;5;28;01mtry\u001B[39;00m:\n\u001B[0;32m-> 1252\u001B[0m     array_interface \u001B[38;5;241m=\u001B[39m \u001B[43marr\u001B[49m\u001B[38;5;241;43m.\u001B[39;49m\u001B[43m__array_interface__\u001B[49m\n\u001B[1;32m   1253\u001B[0m \u001B[38;5;28;01mexcept\u001B[39;00m \u001B[38;5;167;01mAttributeError\u001B[39;00m:\n",
      "File \u001B[0;32m~/.conda/envs/rapids-24.06/lib/python3.11/site-packages/cudf/utils/utils.py:229\u001B[0m, in \u001B[0;36mGetAttrGetItemMixin.__getattr__\u001B[0;34m(self, key)\u001B[0m\n\u001B[1;32m    228\u001B[0m \u001B[38;5;28;01mexcept\u001B[39;00m \u001B[38;5;167;01mKeyError\u001B[39;00m:\n\u001B[0;32m--> 229\u001B[0m     \u001B[38;5;28;01mraise\u001B[39;00m \u001B[38;5;167;01mAttributeError\u001B[39;00m(\n\u001B[1;32m    230\u001B[0m         \u001B[38;5;124mf\u001B[39m\u001B[38;5;124m\"\u001B[39m\u001B[38;5;132;01m{\u001B[39;00m\u001B[38;5;28mtype\u001B[39m(\u001B[38;5;28mself\u001B[39m)\u001B[38;5;241m.\u001B[39m\u001B[38;5;18m__name__\u001B[39m\u001B[38;5;132;01m}\u001B[39;00m\u001B[38;5;124m object has no attribute \u001B[39m\u001B[38;5;132;01m{\u001B[39;00mkey\u001B[38;5;132;01m}\u001B[39;00m\u001B[38;5;124m\"\u001B[39m\n\u001B[1;32m    231\u001B[0m     )\n",
      "\u001B[0;31mAttributeError\u001B[0m: DataFrame object has no attribute __array_interface__",
      "\nDuring handling of the above exception, another exception occurred:\n",
      "\u001B[0;31mTypeError\u001B[0m                                 Traceback (most recent call last)",
      "Cell \u001B[0;32mIn[17], line 15\u001B[0m\n\u001B[1;32m      8\u001B[0m lstm_electricity \u001B[38;5;241m=\u001B[39m Sequential([\n\u001B[1;32m      9\u001B[0m     Input((x_electricity\u001B[38;5;241m.\u001B[39mshape[\u001B[38;5;241m1\u001B[39m], \u001B[38;5;241m1\u001B[39m), batch_size\u001B[38;5;241m=\u001B[39mx_electricity\u001B[38;5;241m.\u001B[39mshape[\u001B[38;5;241m1\u001B[39m]),\n\u001B[1;32m     10\u001B[0m     LSTM(\u001B[38;5;241m30\u001B[39m, activation\u001B[38;5;241m=\u001B[39m\u001B[38;5;124m'\u001B[39m\u001B[38;5;124mrelu\u001B[39m\u001B[38;5;124m'\u001B[39m, seed\u001B[38;5;241m=\u001B[39mSEED),\n\u001B[1;32m     11\u001B[0m     Dense(\u001B[38;5;241m1\u001B[39m),\n\u001B[1;32m     12\u001B[0m ])\n\u001B[1;32m     13\u001B[0m lstm_electricity\u001B[38;5;241m.\u001B[39mcompile(loss\u001B[38;5;241m=\u001B[39m\u001B[38;5;124m'\u001B[39m\u001B[38;5;124mmse\u001B[39m\u001B[38;5;124m'\u001B[39m, metrics\u001B[38;5;241m=\u001B[39m[\u001B[38;5;124m'\u001B[39m\u001B[38;5;124mmean_absolute_error\u001B[39m\u001B[38;5;124m'\u001B[39m])\n\u001B[0;32m---> 15\u001B[0m x_train, x_test, y_train, y_test \u001B[38;5;241m=\u001B[39m \u001B[43mtrain_test_split\u001B[49m\u001B[43m(\u001B[49m\u001B[43mx_electricity\u001B[49m\u001B[43m,\u001B[49m\u001B[43m \u001B[49m\u001B[43my_electricity\u001B[49m\u001B[43m,\u001B[49m\u001B[43m \u001B[49m\u001B[43mtest_size\u001B[49m\u001B[38;5;241;43m=\u001B[39;49m\u001B[38;5;241;43m3\u001B[39;49m\u001B[43m,\u001B[49m\u001B[43m \u001B[49m\u001B[43mshuffle\u001B[49m\u001B[38;5;241;43m=\u001B[39;49m\u001B[38;5;28;43;01mFalse\u001B[39;49;00m\u001B[43m)\u001B[49m\n\u001B[1;32m     17\u001B[0m cvs_electricity \u001B[38;5;241m=\u001B[39m pandas\u001B[38;5;241m.\u001B[39mDataFrame()\n\u001B[1;32m     18\u001B[0m \u001B[38;5;28;01mfor\u001B[39;00m i_train, i_test \u001B[38;5;129;01min\u001B[39;00m TimeSeriesSplit(n_splits\u001B[38;5;241m=\u001B[39m\u001B[38;5;241m12\u001B[39m, test_size\u001B[38;5;241m=\u001B[39m\u001B[38;5;241m1\u001B[39m)\u001B[38;5;241m.\u001B[39msplit(x_train, y_train):\n",
      "File \u001B[0;32m~/.conda/envs/rapids-24.06/lib/python3.11/site-packages/cuml/model_selection/_split.py:268\u001B[0m, in \u001B[0;36mtrain_test_split\u001B[0;34m(X, y, test_size, train_size, shuffle, random_state, stratify)\u001B[0m\n\u001B[1;32m    262\u001B[0m     \u001B[38;5;28;01melse\u001B[39;00m:\n\u001B[1;32m    263\u001B[0m         \u001B[38;5;28;01mraise\u001B[39;00m \u001B[38;5;167;01mTypeError\u001B[39;00m(\n\u001B[1;32m    264\u001B[0m             \u001B[38;5;124m\"\u001B[39m\u001B[38;5;124mX needs to be a cuDF Dataframe when y is a \u001B[39m\u001B[38;5;130;01m\\\u001B[39;00m\n\u001B[1;32m    265\u001B[0m \u001B[38;5;124m                         string\u001B[39m\u001B[38;5;124m\"\u001B[39m\n\u001B[1;32m    266\u001B[0m         )\n\u001B[0;32m--> 268\u001B[0m x_order \u001B[38;5;241m=\u001B[39m \u001B[43marray_to_memory_order\u001B[49m\u001B[43m(\u001B[49m\u001B[43mX\u001B[49m\u001B[43m)\u001B[49m\n\u001B[1;32m    269\u001B[0m X_arr, X_row, \u001B[38;5;241m*\u001B[39m_ \u001B[38;5;241m=\u001B[39m input_to_cuml_array(X, order\u001B[38;5;241m=\u001B[39mx_order)\n\u001B[1;32m    270\u001B[0m \u001B[38;5;28;01mif\u001B[39;00m y \u001B[38;5;129;01mis\u001B[39;00m \u001B[38;5;129;01mnot\u001B[39;00m \u001B[38;5;28;01mNone\u001B[39;00m:\n",
      "File \u001B[0;32m~/.conda/envs/rapids-24.06/lib/python3.11/site-packages/cuml/internals/array.py:1254\u001B[0m, in \u001B[0;36marray_to_memory_order\u001B[0;34m(arr, default)\u001B[0m\n\u001B[1;32m   1252\u001B[0m         array_interface \u001B[38;5;241m=\u001B[39m arr\u001B[38;5;241m.\u001B[39m__array_interface__\n\u001B[1;32m   1253\u001B[0m     \u001B[38;5;28;01mexcept\u001B[39;00m \u001B[38;5;167;01mAttributeError\u001B[39;00m:\n\u001B[0;32m-> 1254\u001B[0m         \u001B[38;5;28;01mreturn\u001B[39;00m array_to_memory_order(\u001B[43mCumlArray\u001B[49m\u001B[38;5;241;43m.\u001B[39;49m\u001B[43mfrom_input\u001B[49m\u001B[43m(\u001B[49m\u001B[43marr\u001B[49m\u001B[43m,\u001B[49m\u001B[43m \u001B[49m\u001B[43morder\u001B[49m\u001B[38;5;241;43m=\u001B[39;49m\u001B[38;5;124;43m\"\u001B[39;49m\u001B[38;5;124;43mK\u001B[39;49m\u001B[38;5;124;43m\"\u001B[39;49m\u001B[43m)\u001B[49m)\n\u001B[1;32m   1255\u001B[0m strides \u001B[38;5;241m=\u001B[39m array_interface\u001B[38;5;241m.\u001B[39mget(\u001B[38;5;124m\"\u001B[39m\u001B[38;5;124mstrides\u001B[39m\u001B[38;5;124m\"\u001B[39m, \u001B[38;5;28;01mNone\u001B[39;00m)\n\u001B[1;32m   1256\u001B[0m \u001B[38;5;28;01mif\u001B[39;00m strides \u001B[38;5;129;01mis\u001B[39;00m \u001B[38;5;28;01mNone\u001B[39;00m:\n",
      "File \u001B[0;32m~/.conda/envs/rapids-24.06/lib/python3.11/site-packages/cuml/internals/memory_utils.py:87\u001B[0m, in \u001B[0;36mwith_cupy_rmm.<locals>.cupy_rmm_wrapper\u001B[0;34m(*args, **kwargs)\u001B[0m\n\u001B[1;32m     85\u001B[0m \u001B[38;5;28;01mif\u001B[39;00m GPU_ENABLED:\n\u001B[1;32m     86\u001B[0m     \u001B[38;5;28;01mwith\u001B[39;00m cupy_using_allocator(rmm_cupy_allocator):\n\u001B[0;32m---> 87\u001B[0m         \u001B[38;5;28;01mreturn\u001B[39;00m \u001B[43mfunc\u001B[49m\u001B[43m(\u001B[49m\u001B[38;5;241;43m*\u001B[39;49m\u001B[43margs\u001B[49m\u001B[43m,\u001B[49m\u001B[43m \u001B[49m\u001B[38;5;241;43m*\u001B[39;49m\u001B[38;5;241;43m*\u001B[39;49m\u001B[43mkwargs\u001B[49m\u001B[43m)\u001B[49m\n\u001B[1;32m     88\u001B[0m \u001B[38;5;28;01mreturn\u001B[39;00m func(\u001B[38;5;241m*\u001B[39margs, \u001B[38;5;241m*\u001B[39m\u001B[38;5;241m*\u001B[39mkwargs)\n",
      "File \u001B[0;32m~/.conda/envs/rapids-24.06/lib/python3.11/site-packages/nvtx/nvtx.py:116\u001B[0m, in \u001B[0;36mannotate.__call__.<locals>.inner\u001B[0;34m(*args, **kwargs)\u001B[0m\n\u001B[1;32m    113\u001B[0m \u001B[38;5;129m@wraps\u001B[39m(func)\n\u001B[1;32m    114\u001B[0m \u001B[38;5;28;01mdef\u001B[39;00m \u001B[38;5;21minner\u001B[39m(\u001B[38;5;241m*\u001B[39margs, \u001B[38;5;241m*\u001B[39m\u001B[38;5;241m*\u001B[39mkwargs):\n\u001B[1;32m    115\u001B[0m     libnvtx_push_range(\u001B[38;5;28mself\u001B[39m\u001B[38;5;241m.\u001B[39mattributes, \u001B[38;5;28mself\u001B[39m\u001B[38;5;241m.\u001B[39mdomain\u001B[38;5;241m.\u001B[39mhandle)\n\u001B[0;32m--> 116\u001B[0m     result \u001B[38;5;241m=\u001B[39m \u001B[43mfunc\u001B[49m\u001B[43m(\u001B[49m\u001B[38;5;241;43m*\u001B[39;49m\u001B[43margs\u001B[49m\u001B[43m,\u001B[49m\u001B[43m \u001B[49m\u001B[38;5;241;43m*\u001B[39;49m\u001B[38;5;241;43m*\u001B[39;49m\u001B[43mkwargs\u001B[49m\u001B[43m)\u001B[49m\n\u001B[1;32m    117\u001B[0m     libnvtx_pop_range(\u001B[38;5;28mself\u001B[39m\u001B[38;5;241m.\u001B[39mdomain\u001B[38;5;241m.\u001B[39mhandle)\n\u001B[1;32m    118\u001B[0m     \u001B[38;5;28;01mreturn\u001B[39;00m result\n",
      "File \u001B[0;32m~/.conda/envs/rapids-24.06/lib/python3.11/site-packages/cuml/internals/array.py:1104\u001B[0m, in \u001B[0;36mCumlArray.from_input\u001B[0;34m(cls, X, order, deepcopy, check_dtype, convert_to_dtype, check_mem_type, convert_to_mem_type, safe_dtype_conversion, check_cols, check_rows, fail_on_order, force_contiguous)\u001B[0m\n\u001B[1;32m   1098\u001B[0m         \u001B[38;5;28;01mraise\u001B[39;00m \u001B[38;5;167;01mValueError\u001B[39;00m(\n\u001B[1;32m   1099\u001B[0m             \u001B[38;5;124m\"\u001B[39m\u001B[38;5;124mError: cuDF Series has missing/null values, \u001B[39m\u001B[38;5;124m\"\u001B[39m\n\u001B[1;32m   1100\u001B[0m             \u001B[38;5;124m\"\u001B[39m\u001B[38;5;124mwhich are not supported by cuML.\u001B[39m\u001B[38;5;124m\"\u001B[39m\n\u001B[1;32m   1101\u001B[0m         )\n\u001B[1;32m   1103\u001B[0m \u001B[38;5;28;01mif\u001B[39;00m \u001B[38;5;28misinstance\u001B[39m(X, CudfDataFrame):\n\u001B[0;32m-> 1104\u001B[0m     X \u001B[38;5;241m=\u001B[39m \u001B[43mX\u001B[49m\u001B[38;5;241;43m.\u001B[39;49m\u001B[43mto_cupy\u001B[49m\u001B[43m(\u001B[49m\u001B[43mcopy\u001B[49m\u001B[38;5;241;43m=\u001B[39;49m\u001B[38;5;28;43;01mFalse\u001B[39;49;00m\u001B[43m)\u001B[49m\n\u001B[1;32m   1105\u001B[0m \u001B[38;5;28;01melif\u001B[39;00m \u001B[38;5;28misinstance\u001B[39m(X, (PandasDataFrame, PandasSeries)):\n\u001B[1;32m   1106\u001B[0m     X \u001B[38;5;241m=\u001B[39m X\u001B[38;5;241m.\u001B[39mto_numpy(copy\u001B[38;5;241m=\u001B[39m\u001B[38;5;28;01mFalse\u001B[39;00m)\n",
      "File \u001B[0;32m~/.conda/envs/rapids-24.06/lib/python3.11/site-packages/nvtx/nvtx.py:116\u001B[0m, in \u001B[0;36mannotate.__call__.<locals>.inner\u001B[0;34m(*args, **kwargs)\u001B[0m\n\u001B[1;32m    113\u001B[0m \u001B[38;5;129m@wraps\u001B[39m(func)\n\u001B[1;32m    114\u001B[0m \u001B[38;5;28;01mdef\u001B[39;00m \u001B[38;5;21minner\u001B[39m(\u001B[38;5;241m*\u001B[39margs, \u001B[38;5;241m*\u001B[39m\u001B[38;5;241m*\u001B[39mkwargs):\n\u001B[1;32m    115\u001B[0m     libnvtx_push_range(\u001B[38;5;28mself\u001B[39m\u001B[38;5;241m.\u001B[39mattributes, \u001B[38;5;28mself\u001B[39m\u001B[38;5;241m.\u001B[39mdomain\u001B[38;5;241m.\u001B[39mhandle)\n\u001B[0;32m--> 116\u001B[0m     result \u001B[38;5;241m=\u001B[39m \u001B[43mfunc\u001B[49m\u001B[43m(\u001B[49m\u001B[38;5;241;43m*\u001B[39;49m\u001B[43margs\u001B[49m\u001B[43m,\u001B[49m\u001B[43m \u001B[49m\u001B[38;5;241;43m*\u001B[39;49m\u001B[38;5;241;43m*\u001B[39;49m\u001B[43mkwargs\u001B[49m\u001B[43m)\u001B[49m\n\u001B[1;32m    117\u001B[0m     libnvtx_pop_range(\u001B[38;5;28mself\u001B[39m\u001B[38;5;241m.\u001B[39mdomain\u001B[38;5;241m.\u001B[39mhandle)\n\u001B[1;32m    118\u001B[0m     \u001B[38;5;28;01mreturn\u001B[39;00m result\n",
      "File \u001B[0;32m~/.conda/envs/rapids-24.06/lib/python3.11/site-packages/cudf/core/frame.py:512\u001B[0m, in \u001B[0;36mFrame.to_cupy\u001B[0;34m(self, dtype, copy, na_value)\u001B[0m\n\u001B[1;32m    486\u001B[0m \u001B[38;5;129m@_cudf_nvtx_annotate\u001B[39m\n\u001B[1;32m    487\u001B[0m \u001B[38;5;28;01mdef\u001B[39;00m \u001B[38;5;21mto_cupy\u001B[39m(\n\u001B[1;32m    488\u001B[0m     \u001B[38;5;28mself\u001B[39m,\n\u001B[0;32m   (...)\u001B[0m\n\u001B[1;32m    491\u001B[0m     na_value\u001B[38;5;241m=\u001B[39m\u001B[38;5;28;01mNone\u001B[39;00m,\n\u001B[1;32m    492\u001B[0m ) \u001B[38;5;241m-\u001B[39m\u001B[38;5;241m>\u001B[39m cupy\u001B[38;5;241m.\u001B[39mndarray:\n\u001B[1;32m    493\u001B[0m \u001B[38;5;250m    \u001B[39m\u001B[38;5;124;03m\"\"\"Convert the Frame to a CuPy array.\u001B[39;00m\n\u001B[1;32m    494\u001B[0m \n\u001B[1;32m    495\u001B[0m \u001B[38;5;124;03m    Parameters\u001B[39;00m\n\u001B[0;32m   (...)\u001B[0m\n\u001B[1;32m    510\u001B[0m \u001B[38;5;124;03m    cupy.ndarray\u001B[39;00m\n\u001B[1;32m    511\u001B[0m \u001B[38;5;124;03m    \"\"\"\u001B[39;00m\n\u001B[0;32m--> 512\u001B[0m     \u001B[38;5;28;01mreturn\u001B[39;00m \u001B[38;5;28;43mself\u001B[39;49m\u001B[38;5;241;43m.\u001B[39;49m\u001B[43m_to_array\u001B[49m\u001B[43m(\u001B[49m\n\u001B[1;32m    513\u001B[0m \u001B[43m        \u001B[49m\u001B[38;5;28;43;01mlambda\u001B[39;49;00m\u001B[43m \u001B[49m\u001B[43mcol\u001B[49m\u001B[43m:\u001B[49m\u001B[43m \u001B[49m\u001B[43mcol\u001B[49m\u001B[38;5;241;43m.\u001B[39;49m\u001B[43mvalues\u001B[49m\u001B[43m,\u001B[49m\n\u001B[1;32m    514\u001B[0m \u001B[43m        \u001B[49m\u001B[43mcupy\u001B[49m\u001B[43m,\u001B[49m\n\u001B[1;32m    515\u001B[0m \u001B[43m        \u001B[49m\u001B[43mcopy\u001B[49m\u001B[43m,\u001B[49m\n\u001B[1;32m    516\u001B[0m \u001B[43m        \u001B[49m\u001B[43mdtype\u001B[49m\u001B[43m,\u001B[49m\n\u001B[1;32m    517\u001B[0m \u001B[43m        \u001B[49m\u001B[43mna_value\u001B[49m\u001B[43m,\u001B[49m\n\u001B[1;32m    518\u001B[0m \u001B[43m    \u001B[49m\u001B[43m)\u001B[49m\n",
      "File \u001B[0;32m~/.conda/envs/rapids-24.06/lib/python3.11/site-packages/nvtx/nvtx.py:116\u001B[0m, in \u001B[0;36mannotate.__call__.<locals>.inner\u001B[0;34m(*args, **kwargs)\u001B[0m\n\u001B[1;32m    113\u001B[0m \u001B[38;5;129m@wraps\u001B[39m(func)\n\u001B[1;32m    114\u001B[0m \u001B[38;5;28;01mdef\u001B[39;00m \u001B[38;5;21minner\u001B[39m(\u001B[38;5;241m*\u001B[39margs, \u001B[38;5;241m*\u001B[39m\u001B[38;5;241m*\u001B[39mkwargs):\n\u001B[1;32m    115\u001B[0m     libnvtx_push_range(\u001B[38;5;28mself\u001B[39m\u001B[38;5;241m.\u001B[39mattributes, \u001B[38;5;28mself\u001B[39m\u001B[38;5;241m.\u001B[39mdomain\u001B[38;5;241m.\u001B[39mhandle)\n\u001B[0;32m--> 116\u001B[0m     result \u001B[38;5;241m=\u001B[39m \u001B[43mfunc\u001B[49m\u001B[43m(\u001B[49m\u001B[38;5;241;43m*\u001B[39;49m\u001B[43margs\u001B[49m\u001B[43m,\u001B[49m\u001B[43m \u001B[49m\u001B[38;5;241;43m*\u001B[39;49m\u001B[38;5;241;43m*\u001B[39;49m\u001B[43mkwargs\u001B[49m\u001B[43m)\u001B[49m\n\u001B[1;32m    117\u001B[0m     libnvtx_pop_range(\u001B[38;5;28mself\u001B[39m\u001B[38;5;241m.\u001B[39mdomain\u001B[38;5;241m.\u001B[39mhandle)\n\u001B[1;32m    118\u001B[0m     \u001B[38;5;28;01mreturn\u001B[39;00m result\n",
      "File \u001B[0;32m~/.conda/envs/rapids-24.06/lib/python3.11/site-packages/cudf/core/frame.py:477\u001B[0m, in \u001B[0;36mFrame._to_array\u001B[0;34m(self, get_array, module, copy, dtype, na_value)\u001B[0m\n\u001B[1;32m    470\u001B[0m matrix \u001B[38;5;241m=\u001B[39m module\u001B[38;5;241m.\u001B[39mempty(\n\u001B[1;32m    471\u001B[0m     shape\u001B[38;5;241m=\u001B[39m(\u001B[38;5;28mlen\u001B[39m(\u001B[38;5;28mself\u001B[39m), ncol), dtype\u001B[38;5;241m=\u001B[39mdtype, order\u001B[38;5;241m=\u001B[39m\u001B[38;5;124m\"\u001B[39m\u001B[38;5;124mF\u001B[39m\u001B[38;5;124m\"\u001B[39m\n\u001B[1;32m    472\u001B[0m )\n\u001B[1;32m    473\u001B[0m \u001B[38;5;28;01mfor\u001B[39;00m i, col \u001B[38;5;129;01min\u001B[39;00m \u001B[38;5;28menumerate\u001B[39m(\u001B[38;5;28mself\u001B[39m\u001B[38;5;241m.\u001B[39m_data\u001B[38;5;241m.\u001B[39mvalues()):\n\u001B[1;32m    474\u001B[0m     \u001B[38;5;66;03m# TODO: col.values may fail if there is nullable data or an\u001B[39;00m\n\u001B[1;32m    475\u001B[0m     \u001B[38;5;66;03m# unsupported dtype. We may want to catch and provide a more\u001B[39;00m\n\u001B[1;32m    476\u001B[0m     \u001B[38;5;66;03m# suitable error.\u001B[39;00m\n\u001B[0;32m--> 477\u001B[0m     matrix[:, i] \u001B[38;5;241m=\u001B[39m \u001B[43mto_array\u001B[49m\u001B[43m(\u001B[49m\u001B[43mcol\u001B[49m\u001B[43m,\u001B[49m\u001B[43m \u001B[49m\u001B[43mdtype\u001B[49m\u001B[43m)\u001B[49m\n\u001B[1;32m    478\u001B[0m \u001B[38;5;28;01mreturn\u001B[39;00m matrix\n",
      "File \u001B[0;32m~/.conda/envs/rapids-24.06/lib/python3.11/site-packages/cudf/core/frame.py:439\u001B[0m, in \u001B[0;36mFrame._to_array.<locals>.to_array\u001B[0;34m(col, dtype)\u001B[0m\n\u001B[1;32m    437\u001B[0m \u001B[38;5;28;01mif\u001B[39;00m na_value \u001B[38;5;129;01mis\u001B[39;00m \u001B[38;5;129;01mnot\u001B[39;00m \u001B[38;5;28;01mNone\u001B[39;00m:\n\u001B[1;32m    438\u001B[0m     col \u001B[38;5;241m=\u001B[39m col\u001B[38;5;241m.\u001B[39mfillna(na_value)\n\u001B[0;32m--> 439\u001B[0m array \u001B[38;5;241m=\u001B[39m \u001B[43mget_array\u001B[49m\u001B[43m(\u001B[49m\u001B[43mcol\u001B[49m\u001B[43m)\u001B[49m\n\u001B[1;32m    440\u001B[0m casted_array \u001B[38;5;241m=\u001B[39m module\u001B[38;5;241m.\u001B[39masarray(array, dtype\u001B[38;5;241m=\u001B[39mdtype)\n\u001B[1;32m    441\u001B[0m \u001B[38;5;28;01mif\u001B[39;00m copy \u001B[38;5;129;01mand\u001B[39;00m casted_array \u001B[38;5;129;01mis\u001B[39;00m array:\n\u001B[1;32m    442\u001B[0m     \u001B[38;5;66;03m# Don't double copy after asarray\u001B[39;00m\n",
      "File \u001B[0;32m~/.conda/envs/rapids-24.06/lib/python3.11/site-packages/cudf/core/frame.py:513\u001B[0m, in \u001B[0;36mFrame.to_cupy.<locals>.<lambda>\u001B[0;34m(col)\u001B[0m\n\u001B[1;32m    486\u001B[0m \u001B[38;5;129m@_cudf_nvtx_annotate\u001B[39m\n\u001B[1;32m    487\u001B[0m \u001B[38;5;28;01mdef\u001B[39;00m \u001B[38;5;21mto_cupy\u001B[39m(\n\u001B[1;32m    488\u001B[0m     \u001B[38;5;28mself\u001B[39m,\n\u001B[0;32m   (...)\u001B[0m\n\u001B[1;32m    491\u001B[0m     na_value\u001B[38;5;241m=\u001B[39m\u001B[38;5;28;01mNone\u001B[39;00m,\n\u001B[1;32m    492\u001B[0m ) \u001B[38;5;241m-\u001B[39m\u001B[38;5;241m>\u001B[39m cupy\u001B[38;5;241m.\u001B[39mndarray:\n\u001B[1;32m    493\u001B[0m \u001B[38;5;250m    \u001B[39m\u001B[38;5;124;03m\"\"\"Convert the Frame to a CuPy array.\u001B[39;00m\n\u001B[1;32m    494\u001B[0m \n\u001B[1;32m    495\u001B[0m \u001B[38;5;124;03m    Parameters\u001B[39;00m\n\u001B[0;32m   (...)\u001B[0m\n\u001B[1;32m    510\u001B[0m \u001B[38;5;124;03m    cupy.ndarray\u001B[39;00m\n\u001B[1;32m    511\u001B[0m \u001B[38;5;124;03m    \"\"\"\u001B[39;00m\n\u001B[1;32m    512\u001B[0m     \u001B[38;5;28;01mreturn\u001B[39;00m \u001B[38;5;28mself\u001B[39m\u001B[38;5;241m.\u001B[39m_to_array(\n\u001B[0;32m--> 513\u001B[0m         \u001B[38;5;28;01mlambda\u001B[39;00m col: \u001B[43mcol\u001B[49m\u001B[38;5;241;43m.\u001B[39;49m\u001B[43mvalues\u001B[49m,\n\u001B[1;32m    514\u001B[0m         cupy,\n\u001B[1;32m    515\u001B[0m         copy,\n\u001B[1;32m    516\u001B[0m         dtype,\n\u001B[1;32m    517\u001B[0m         na_value,\n\u001B[1;32m    518\u001B[0m     )\n",
      "File \u001B[0;32m~/.conda/envs/rapids-24.06/lib/python3.11/site-packages/cudf/core/column/string.py:5781\u001B[0m, in \u001B[0;36mStringColumn.values\u001B[0;34m(self)\u001B[0m\n\u001B[1;32m   5776\u001B[0m \u001B[38;5;129m@property\u001B[39m\n\u001B[1;32m   5777\u001B[0m \u001B[38;5;28;01mdef\u001B[39;00m \u001B[38;5;21mvalues\u001B[39m(\u001B[38;5;28mself\u001B[39m) \u001B[38;5;241m-\u001B[39m\u001B[38;5;241m>\u001B[39m cupy\u001B[38;5;241m.\u001B[39mndarray:\n\u001B[1;32m   5778\u001B[0m \u001B[38;5;250m    \u001B[39m\u001B[38;5;124;03m\"\"\"\u001B[39;00m\n\u001B[1;32m   5779\u001B[0m \u001B[38;5;124;03m    Return a CuPy representation of the StringColumn.\u001B[39;00m\n\u001B[1;32m   5780\u001B[0m \u001B[38;5;124;03m    \"\"\"\u001B[39;00m\n\u001B[0;32m-> 5781\u001B[0m     \u001B[38;5;28;01mraise\u001B[39;00m \u001B[38;5;167;01mTypeError\u001B[39;00m(\u001B[38;5;124m\"\u001B[39m\u001B[38;5;124mString Arrays is not yet implemented in cudf\u001B[39m\u001B[38;5;124m\"\u001B[39m)\n",
      "\u001B[0;31mTypeError\u001B[0m: String Arrays is not yet implemented in cudf"
     ]
    }
   ],
   "execution_count": 17
  },
  {
   "cell_type": "markdown",
   "source": [
    "### 6 Passos à frente"
   ],
   "metadata": {
    "collapsed": false
   },
   "id": "16178f65debc9ff4"
  },
  {
   "cell_type": "code",
   "source": [],
   "metadata": {
    "collapsed": false
   },
   "id": "6659cf7ebd8217fa",
   "outputs": [],
   "execution_count": null
  },
  {
   "cell_type": "markdown",
   "source": [
    "### 12 Passos à frente"
   ],
   "metadata": {
    "collapsed": false
   },
   "id": "4f58661c14d4c9ed"
  },
  {
   "cell_type": "code",
   "source": [],
   "metadata": {
    "collapsed": false
   },
   "id": "53da7b76e64a75a3",
   "outputs": [],
   "execution_count": null
  },
  {
   "cell_type": "markdown",
   "source": [
    "## Água\n",
    "### 3 Passos à frente"
   ],
   "metadata": {
    "collapsed": false
   },
   "id": "8c99bede6775cf6"
  },
  {
   "cell_type": "code",
   "source": [],
   "metadata": {
    "collapsed": false
   },
   "id": "d8b9b9a43a9d2e99",
   "outputs": [],
   "execution_count": null
  },
  {
   "cell_type": "markdown",
   "source": [
    "### 6 Passos à frente"
   ],
   "metadata": {
    "collapsed": false
   },
   "id": "7ea5d075f2d6a520"
  },
  {
   "cell_type": "code",
   "source": [],
   "metadata": {
    "collapsed": false
   },
   "id": "148be2114d695794",
   "outputs": [],
   "execution_count": null
  },
  {
   "cell_type": "markdown",
   "source": [
    "12 Passos à frente"
   ],
   "metadata": {
    "collapsed": false
   },
   "id": "736804d0991388ec"
  }
 ],
 "metadata": {
  "kernelspec": {
   "display_name": "Python 3",
   "language": "python",
   "name": "python3"
  },
  "language_info": {
   "codemirror_mode": {
    "name": "ipython",
    "version": 2
   },
   "file_extension": ".py",
   "mimetype": "text/x-python",
   "name": "python",
   "nbconvert_exporter": "python",
   "pygments_lexer": "ipython2",
   "version": "2.7.6"
  }
 },
 "nbformat": 4,
 "nbformat_minor": 5
}
